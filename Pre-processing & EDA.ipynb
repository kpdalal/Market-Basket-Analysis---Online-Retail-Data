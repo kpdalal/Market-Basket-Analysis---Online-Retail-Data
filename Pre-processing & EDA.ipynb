{
 "cells": [
  {
   "cell_type": "markdown",
   "metadata": {},
   "source": [
    "# Project Phase 1: Data Pre-processing & EDA\n",
    "**Notebook 1 of 2**\n",
    "\n",
    "## Team Outliers\n",
    "1. Karan Dalal\n",
    "2. Neil Joshi\n",
    "3. Syed Kashif Kamonpuri\n",
    "4. Vishal Agarwal"
   ]
  },
  {
   "cell_type": "code",
   "execution_count": 1,
   "metadata": {},
   "outputs": [],
   "source": [
    "import pandas as pd\n",
    "import numpy as np\n",
    "import seaborn as sns\n",
    "import matplotlib.pyplot as plt"
   ]
  },
  {
   "cell_type": "code",
   "execution_count": 2,
   "metadata": {},
   "outputs": [
    {
     "data": {
      "text/plain": [
       "(541909, 8)"
      ]
     },
     "execution_count": 2,
     "metadata": {},
     "output_type": "execute_result"
    }
   ],
   "source": [
    "data = pd.read_excel('Online Retail.xlsx', date_parser='InvoiceDate')\n",
    "data.StockCode = data.StockCode.astype('str')\n",
    "data.shape"
   ]
  },
  {
   "cell_type": "code",
   "execution_count": 3,
   "metadata": {},
   "outputs": [
    {
     "data": {
      "text/plain": [
       "InvoiceNo              object\n",
       "StockCode              object\n",
       "Description            object\n",
       "Quantity                int64\n",
       "InvoiceDate    datetime64[ns]\n",
       "UnitPrice             float64\n",
       "CustomerID            float64\n",
       "Country                object\n",
       "dtype: object"
      ]
     },
     "execution_count": 3,
     "metadata": {},
     "output_type": "execute_result"
    }
   ],
   "source": [
    "data.dtypes"
   ]
  },
  {
   "cell_type": "code",
   "execution_count": 4,
   "metadata": {},
   "outputs": [
    {
     "data": {
      "text/html": [
       "<div>\n",
       "<style scoped>\n",
       "    .dataframe tbody tr th:only-of-type {\n",
       "        vertical-align: middle;\n",
       "    }\n",
       "\n",
       "    .dataframe tbody tr th {\n",
       "        vertical-align: top;\n",
       "    }\n",
       "\n",
       "    .dataframe thead th {\n",
       "        text-align: right;\n",
       "    }\n",
       "</style>\n",
       "<table border=\"1\" class=\"dataframe\">\n",
       "  <thead>\n",
       "    <tr style=\"text-align: right;\">\n",
       "      <th></th>\n",
       "      <th>InvoiceNo</th>\n",
       "      <th>StockCode</th>\n",
       "      <th>Description</th>\n",
       "      <th>Quantity</th>\n",
       "      <th>InvoiceDate</th>\n",
       "      <th>UnitPrice</th>\n",
       "      <th>CustomerID</th>\n",
       "      <th>Country</th>\n",
       "    </tr>\n",
       "  </thead>\n",
       "  <tbody>\n",
       "    <tr>\n",
       "      <th>0</th>\n",
       "      <td>536365</td>\n",
       "      <td>85123A</td>\n",
       "      <td>WHITE HANGING HEART T-LIGHT HOLDER</td>\n",
       "      <td>6</td>\n",
       "      <td>2010-12-01 08:26:00</td>\n",
       "      <td>2.55</td>\n",
       "      <td>17850.0</td>\n",
       "      <td>United Kingdom</td>\n",
       "    </tr>\n",
       "    <tr>\n",
       "      <th>1</th>\n",
       "      <td>536365</td>\n",
       "      <td>71053</td>\n",
       "      <td>WHITE METAL LANTERN</td>\n",
       "      <td>6</td>\n",
       "      <td>2010-12-01 08:26:00</td>\n",
       "      <td>3.39</td>\n",
       "      <td>17850.0</td>\n",
       "      <td>United Kingdom</td>\n",
       "    </tr>\n",
       "    <tr>\n",
       "      <th>2</th>\n",
       "      <td>536365</td>\n",
       "      <td>84406B</td>\n",
       "      <td>CREAM CUPID HEARTS COAT HANGER</td>\n",
       "      <td>8</td>\n",
       "      <td>2010-12-01 08:26:00</td>\n",
       "      <td>2.75</td>\n",
       "      <td>17850.0</td>\n",
       "      <td>United Kingdom</td>\n",
       "    </tr>\n",
       "    <tr>\n",
       "      <th>3</th>\n",
       "      <td>536365</td>\n",
       "      <td>84029G</td>\n",
       "      <td>KNITTED UNION FLAG HOT WATER BOTTLE</td>\n",
       "      <td>6</td>\n",
       "      <td>2010-12-01 08:26:00</td>\n",
       "      <td>3.39</td>\n",
       "      <td>17850.0</td>\n",
       "      <td>United Kingdom</td>\n",
       "    </tr>\n",
       "    <tr>\n",
       "      <th>4</th>\n",
       "      <td>536365</td>\n",
       "      <td>84029E</td>\n",
       "      <td>RED WOOLLY HOTTIE WHITE HEART.</td>\n",
       "      <td>6</td>\n",
       "      <td>2010-12-01 08:26:00</td>\n",
       "      <td>3.39</td>\n",
       "      <td>17850.0</td>\n",
       "      <td>United Kingdom</td>\n",
       "    </tr>\n",
       "  </tbody>\n",
       "</table>\n",
       "</div>"
      ],
      "text/plain": [
       "  InvoiceNo StockCode                          Description  Quantity  \\\n",
       "0    536365    85123A   WHITE HANGING HEART T-LIGHT HOLDER         6   \n",
       "1    536365     71053                  WHITE METAL LANTERN         6   \n",
       "2    536365    84406B       CREAM CUPID HEARTS COAT HANGER         8   \n",
       "3    536365    84029G  KNITTED UNION FLAG HOT WATER BOTTLE         6   \n",
       "4    536365    84029E       RED WOOLLY HOTTIE WHITE HEART.         6   \n",
       "\n",
       "          InvoiceDate  UnitPrice  CustomerID         Country  \n",
       "0 2010-12-01 08:26:00       2.55     17850.0  United Kingdom  \n",
       "1 2010-12-01 08:26:00       3.39     17850.0  United Kingdom  \n",
       "2 2010-12-01 08:26:00       2.75     17850.0  United Kingdom  \n",
       "3 2010-12-01 08:26:00       3.39     17850.0  United Kingdom  \n",
       "4 2010-12-01 08:26:00       3.39     17850.0  United Kingdom  "
      ]
     },
     "execution_count": 4,
     "metadata": {},
     "output_type": "execute_result"
    }
   ],
   "source": [
    "data.head()"
   ]
  },
  {
   "cell_type": "markdown",
   "metadata": {},
   "source": [
    "### Checking for missing values"
   ]
  },
  {
   "cell_type": "code",
   "execution_count": 5,
   "metadata": {},
   "outputs": [
    {
     "data": {
      "text/plain": [
       "InvoiceNo           0\n",
       "StockCode           0\n",
       "Description      1454\n",
       "Quantity            0\n",
       "InvoiceDate         0\n",
       "UnitPrice           0\n",
       "CustomerID     135080\n",
       "Country             0\n",
       "dtype: int64"
      ]
     },
     "execution_count": 5,
     "metadata": {},
     "output_type": "execute_result"
    }
   ],
   "source": [
    "data.isnull().sum()"
   ]
  },
  {
   "cell_type": "markdown",
   "metadata": {},
   "source": [
    "### Checking number of rows per Country"
   ]
  },
  {
   "cell_type": "code",
   "execution_count": 6,
   "metadata": {},
   "outputs": [
    {
     "data": {
      "text/plain": [
       "Country\n",
       "Australia                 1259\n",
       "Austria                    401\n",
       "Bahrain                     19\n",
       "Belgium                   2069\n",
       "Brazil                      32\n",
       "Canada                     151\n",
       "Channel Islands            758\n",
       "Cyprus                     622\n",
       "Czech Republic              30\n",
       "Denmark                    389\n",
       "EIRE                      8196\n",
       "European Community          61\n",
       "Finland                    695\n",
       "France                    8557\n",
       "Germany                   9495\n",
       "Greece                     146\n",
       "Hong Kong                  288\n",
       "Iceland                    182\n",
       "Israel                     297\n",
       "Italy                      803\n",
       "Japan                      358\n",
       "Lebanon                     45\n",
       "Lithuania                   35\n",
       "Malta                      127\n",
       "Netherlands               2371\n",
       "Norway                    1086\n",
       "Poland                     341\n",
       "Portugal                  1519\n",
       "RSA                         58\n",
       "Saudi Arabia                10\n",
       "Singapore                  229\n",
       "Spain                     2533\n",
       "Sweden                     462\n",
       "Switzerland               2002\n",
       "USA                        291\n",
       "United Arab Emirates        68\n",
       "United Kingdom          495478\n",
       "Unspecified                446\n",
       "dtype: int64"
      ]
     },
     "execution_count": 6,
     "metadata": {},
     "output_type": "execute_result"
    }
   ],
   "source": [
    "data.groupby('Country').size()"
   ]
  },
  {
   "cell_type": "markdown",
   "metadata": {},
   "source": [
    "### Grouping rows by Invoice"
   ]
  },
  {
   "cell_type": "code",
   "execution_count": 9,
   "metadata": {},
   "outputs": [
    {
     "data": {
      "text/html": [
       "<div>\n",
       "<style scoped>\n",
       "    .dataframe tbody tr th:only-of-type {\n",
       "        vertical-align: middle;\n",
       "    }\n",
       "\n",
       "    .dataframe tbody tr th {\n",
       "        vertical-align: top;\n",
       "    }\n",
       "\n",
       "    .dataframe thead th {\n",
       "        text-align: right;\n",
       "    }\n",
       "</style>\n",
       "<table border=\"1\" class=\"dataframe\">\n",
       "  <thead>\n",
       "    <tr style=\"text-align: right;\">\n",
       "      <th></th>\n",
       "      <th>Quantity</th>\n",
       "      <th>UnitPrice</th>\n",
       "      <th>CustomerID</th>\n",
       "    </tr>\n",
       "    <tr>\n",
       "      <th>InvoiceNo</th>\n",
       "      <th></th>\n",
       "      <th></th>\n",
       "      <th></th>\n",
       "    </tr>\n",
       "  </thead>\n",
       "  <tbody>\n",
       "    <tr>\n",
       "      <th>536365</th>\n",
       "      <td>40</td>\n",
       "      <td>27.37</td>\n",
       "      <td>124950.0</td>\n",
       "    </tr>\n",
       "    <tr>\n",
       "      <th>536366</th>\n",
       "      <td>12</td>\n",
       "      <td>3.70</td>\n",
       "      <td>35700.0</td>\n",
       "    </tr>\n",
       "    <tr>\n",
       "      <th>536367</th>\n",
       "      <td>83</td>\n",
       "      <td>58.24</td>\n",
       "      <td>156564.0</td>\n",
       "    </tr>\n",
       "    <tr>\n",
       "      <th>536368</th>\n",
       "      <td>15</td>\n",
       "      <td>19.10</td>\n",
       "      <td>52188.0</td>\n",
       "    </tr>\n",
       "    <tr>\n",
       "      <th>536369</th>\n",
       "      <td>3</td>\n",
       "      <td>5.95</td>\n",
       "      <td>13047.0</td>\n",
       "    </tr>\n",
       "    <tr>\n",
       "      <th>...</th>\n",
       "      <td>...</td>\n",
       "      <td>...</td>\n",
       "      <td>...</td>\n",
       "    </tr>\n",
       "    <tr>\n",
       "      <th>C581484</th>\n",
       "      <td>-80995</td>\n",
       "      <td>2.08</td>\n",
       "      <td>16446.0</td>\n",
       "    </tr>\n",
       "    <tr>\n",
       "      <th>C581490</th>\n",
       "      <td>-23</td>\n",
       "      <td>2.78</td>\n",
       "      <td>28794.0</td>\n",
       "    </tr>\n",
       "    <tr>\n",
       "      <th>C581499</th>\n",
       "      <td>-1</td>\n",
       "      <td>224.69</td>\n",
       "      <td>15498.0</td>\n",
       "    </tr>\n",
       "    <tr>\n",
       "      <th>C581568</th>\n",
       "      <td>-5</td>\n",
       "      <td>10.95</td>\n",
       "      <td>15311.0</td>\n",
       "    </tr>\n",
       "    <tr>\n",
       "      <th>C581569</th>\n",
       "      <td>-6</td>\n",
       "      <td>2.50</td>\n",
       "      <td>34630.0</td>\n",
       "    </tr>\n",
       "  </tbody>\n",
       "</table>\n",
       "<p>25900 rows × 3 columns</p>\n",
       "</div>"
      ],
      "text/plain": [
       "           Quantity  UnitPrice  CustomerID\n",
       "InvoiceNo                                 \n",
       "536365           40      27.37    124950.0\n",
       "536366           12       3.70     35700.0\n",
       "536367           83      58.24    156564.0\n",
       "536368           15      19.10     52188.0\n",
       "536369            3       5.95     13047.0\n",
       "...             ...        ...         ...\n",
       "C581484      -80995       2.08     16446.0\n",
       "C581490         -23       2.78     28794.0\n",
       "C581499          -1     224.69     15498.0\n",
       "C581568          -5      10.95     15311.0\n",
       "C581569          -6       2.50     34630.0\n",
       "\n",
       "[25900 rows x 3 columns]"
      ]
     },
     "execution_count": 9,
     "metadata": {},
     "output_type": "execute_result"
    }
   ],
   "source": [
    "data.groupby('InvoiceNo').sum()"
   ]
  },
  {
   "cell_type": "markdown",
   "metadata": {},
   "source": [
    "### Removing duplicate rows"
   ]
  },
  {
   "cell_type": "code",
   "execution_count": 11,
   "metadata": {},
   "outputs": [
    {
     "data": {
      "text/plain": [
       "(536641, 8)"
      ]
     },
     "execution_count": 11,
     "metadata": {},
     "output_type": "execute_result"
    }
   ],
   "source": [
    "data.drop_duplicates(keep='first', inplace=True)\n",
    "data.shape"
   ]
  },
  {
   "cell_type": "markdown",
   "metadata": {},
   "source": [
    "### Removing records with negative quantity"
   ]
  },
  {
   "cell_type": "code",
   "execution_count": 12,
   "metadata": {},
   "outputs": [
    {
     "data": {
      "text/plain": [
       "(526054, 8)"
      ]
     },
     "execution_count": 12,
     "metadata": {},
     "output_type": "execute_result"
    }
   ],
   "source": [
    "data = data[data.Quantity > 0]\n",
    "data.shape"
   ]
  },
  {
   "cell_type": "markdown",
   "metadata": {},
   "source": [
    "### Removing records with negative unit price"
   ]
  },
  {
   "cell_type": "code",
   "execution_count": 13,
   "metadata": {},
   "outputs": [
    {
     "data": {
      "text/plain": [
       "(524878, 8)"
      ]
     },
     "execution_count": 13,
     "metadata": {},
     "output_type": "execute_result"
    }
   ],
   "source": [
    "data = data[data.UnitPrice > 0]\n",
    "data.shape"
   ]
  },
  {
   "cell_type": "markdown",
   "metadata": {},
   "source": [
    "### Calculating TotalSalesAmount\n",
    "TotalSalesAmount = UnitPrice $\\times$ Quantity"
   ]
  },
  {
   "cell_type": "code",
   "execution_count": 14,
   "metadata": {},
   "outputs": [
    {
     "data": {
      "text/html": [
       "<div>\n",
       "<style scoped>\n",
       "    .dataframe tbody tr th:only-of-type {\n",
       "        vertical-align: middle;\n",
       "    }\n",
       "\n",
       "    .dataframe tbody tr th {\n",
       "        vertical-align: top;\n",
       "    }\n",
       "\n",
       "    .dataframe thead th {\n",
       "        text-align: right;\n",
       "    }\n",
       "</style>\n",
       "<table border=\"1\" class=\"dataframe\">\n",
       "  <thead>\n",
       "    <tr style=\"text-align: right;\">\n",
       "      <th></th>\n",
       "      <th>InvoiceNo</th>\n",
       "      <th>StockCode</th>\n",
       "      <th>Description</th>\n",
       "      <th>Quantity</th>\n",
       "      <th>InvoiceDate</th>\n",
       "      <th>UnitPrice</th>\n",
       "      <th>CustomerID</th>\n",
       "      <th>Country</th>\n",
       "      <th>TotalSalesAmount</th>\n",
       "    </tr>\n",
       "  </thead>\n",
       "  <tbody>\n",
       "    <tr>\n",
       "      <th>0</th>\n",
       "      <td>536365</td>\n",
       "      <td>85123A</td>\n",
       "      <td>WHITE HANGING HEART T-LIGHT HOLDER</td>\n",
       "      <td>6</td>\n",
       "      <td>2010-12-01 08:26:00</td>\n",
       "      <td>2.55</td>\n",
       "      <td>17850.0</td>\n",
       "      <td>United Kingdom</td>\n",
       "      <td>15.30</td>\n",
       "    </tr>\n",
       "    <tr>\n",
       "      <th>1</th>\n",
       "      <td>536365</td>\n",
       "      <td>71053</td>\n",
       "      <td>WHITE METAL LANTERN</td>\n",
       "      <td>6</td>\n",
       "      <td>2010-12-01 08:26:00</td>\n",
       "      <td>3.39</td>\n",
       "      <td>17850.0</td>\n",
       "      <td>United Kingdom</td>\n",
       "      <td>20.34</td>\n",
       "    </tr>\n",
       "    <tr>\n",
       "      <th>2</th>\n",
       "      <td>536365</td>\n",
       "      <td>84406B</td>\n",
       "      <td>CREAM CUPID HEARTS COAT HANGER</td>\n",
       "      <td>8</td>\n",
       "      <td>2010-12-01 08:26:00</td>\n",
       "      <td>2.75</td>\n",
       "      <td>17850.0</td>\n",
       "      <td>United Kingdom</td>\n",
       "      <td>22.00</td>\n",
       "    </tr>\n",
       "    <tr>\n",
       "      <th>3</th>\n",
       "      <td>536365</td>\n",
       "      <td>84029G</td>\n",
       "      <td>KNITTED UNION FLAG HOT WATER BOTTLE</td>\n",
       "      <td>6</td>\n",
       "      <td>2010-12-01 08:26:00</td>\n",
       "      <td>3.39</td>\n",
       "      <td>17850.0</td>\n",
       "      <td>United Kingdom</td>\n",
       "      <td>20.34</td>\n",
       "    </tr>\n",
       "    <tr>\n",
       "      <th>4</th>\n",
       "      <td>536365</td>\n",
       "      <td>84029E</td>\n",
       "      <td>RED WOOLLY HOTTIE WHITE HEART.</td>\n",
       "      <td>6</td>\n",
       "      <td>2010-12-01 08:26:00</td>\n",
       "      <td>3.39</td>\n",
       "      <td>17850.0</td>\n",
       "      <td>United Kingdom</td>\n",
       "      <td>20.34</td>\n",
       "    </tr>\n",
       "  </tbody>\n",
       "</table>\n",
       "</div>"
      ],
      "text/plain": [
       "  InvoiceNo StockCode                          Description  Quantity  \\\n",
       "0    536365    85123A   WHITE HANGING HEART T-LIGHT HOLDER         6   \n",
       "1    536365     71053                  WHITE METAL LANTERN         6   \n",
       "2    536365    84406B       CREAM CUPID HEARTS COAT HANGER         8   \n",
       "3    536365    84029G  KNITTED UNION FLAG HOT WATER BOTTLE         6   \n",
       "4    536365    84029E       RED WOOLLY HOTTIE WHITE HEART.         6   \n",
       "\n",
       "          InvoiceDate  UnitPrice  CustomerID         Country  TotalSalesAmount  \n",
       "0 2010-12-01 08:26:00       2.55     17850.0  United Kingdom             15.30  \n",
       "1 2010-12-01 08:26:00       3.39     17850.0  United Kingdom             20.34  \n",
       "2 2010-12-01 08:26:00       2.75     17850.0  United Kingdom             22.00  \n",
       "3 2010-12-01 08:26:00       3.39     17850.0  United Kingdom             20.34  \n",
       "4 2010-12-01 08:26:00       3.39     17850.0  United Kingdom             20.34  "
      ]
     },
     "execution_count": 14,
     "metadata": {},
     "output_type": "execute_result"
    }
   ],
   "source": [
    "data['TotalSalesAmount'] = data['UnitPrice'] * data['Quantity']\n",
    "data.head()"
   ]
  },
  {
   "cell_type": "markdown",
   "metadata": {},
   "source": [
    "### Identifying and fixing items with multiple Descriptions\n",
    "* We found many stock codes with multiple descriptions. To standardize the dataset, we replaced the multiple descriptions of a stock code with the description with highest occurence\n",
    "* We also imputed rows with missing descriptions, with the the description of corresponding stock code"
   ]
  },
  {
   "cell_type": "code",
   "execution_count": 15,
   "metadata": {},
   "outputs": [],
   "source": [
    "def max_count(descriptions):\n",
    "    count_df = data[data.Description.isin(descriptions)]\n",
    "    count_df = pd.DataFrame(count_df.groupby('Description').size())\n",
    "    count_df.columns = ['Count']\n",
    "    count_df.sort_values(by='Count', ascending=False)\n",
    "    count_df.reset_index(inplace=True)\n",
    "    return count_df.loc[0, 'Description']"
   ]
  },
  {
   "cell_type": "code",
   "execution_count": 16,
   "metadata": {},
   "outputs": [
    {
     "data": {
      "text/html": [
       "<div>\n",
       "<style scoped>\n",
       "    .dataframe tbody tr th:only-of-type {\n",
       "        vertical-align: middle;\n",
       "    }\n",
       "\n",
       "    .dataframe tbody tr th {\n",
       "        vertical-align: top;\n",
       "    }\n",
       "\n",
       "    .dataframe thead th {\n",
       "        text-align: right;\n",
       "    }\n",
       "</style>\n",
       "<table border=\"1\" class=\"dataframe\">\n",
       "  <thead>\n",
       "    <tr style=\"text-align: right;\">\n",
       "      <th></th>\n",
       "      <th>StockCode</th>\n",
       "      <th>Description</th>\n",
       "      <th>0</th>\n",
       "    </tr>\n",
       "  </thead>\n",
       "  <tbody>\n",
       "    <tr>\n",
       "      <th>0</th>\n",
       "      <td>10002</td>\n",
       "      <td>INFLATABLE POLITICAL GLOBE</td>\n",
       "      <td>71</td>\n",
       "    </tr>\n",
       "    <tr>\n",
       "      <th>1</th>\n",
       "      <td>10080</td>\n",
       "      <td>GROOVY CACTUS INFLATABLE</td>\n",
       "      <td>22</td>\n",
       "    </tr>\n",
       "    <tr>\n",
       "      <th>2</th>\n",
       "      <td>10120</td>\n",
       "      <td>DOGGY RUBBER</td>\n",
       "      <td>29</td>\n",
       "    </tr>\n",
       "    <tr>\n",
       "      <th>3</th>\n",
       "      <td>10123C</td>\n",
       "      <td>HEARTS WRAPPING TAPE</td>\n",
       "      <td>3</td>\n",
       "    </tr>\n",
       "    <tr>\n",
       "      <th>4</th>\n",
       "      <td>10124A</td>\n",
       "      <td>SPOTS ON RED BOOKCOVER TAPE</td>\n",
       "      <td>5</td>\n",
       "    </tr>\n",
       "    <tr>\n",
       "      <th>...</th>\n",
       "      <td>...</td>\n",
       "      <td>...</td>\n",
       "      <td>...</td>\n",
       "    </tr>\n",
       "    <tr>\n",
       "      <th>4156</th>\n",
       "      <td>gift_0001_20</td>\n",
       "      <td>Dotcomgiftshop Gift Voucher £20.00</td>\n",
       "      <td>9</td>\n",
       "    </tr>\n",
       "    <tr>\n",
       "      <th>4157</th>\n",
       "      <td>gift_0001_30</td>\n",
       "      <td>Dotcomgiftshop Gift Voucher £30.00</td>\n",
       "      <td>7</td>\n",
       "    </tr>\n",
       "    <tr>\n",
       "      <th>4158</th>\n",
       "      <td>gift_0001_40</td>\n",
       "      <td>Dotcomgiftshop Gift Voucher £40.00</td>\n",
       "      <td>3</td>\n",
       "    </tr>\n",
       "    <tr>\n",
       "      <th>4159</th>\n",
       "      <td>gift_0001_50</td>\n",
       "      <td>Dotcomgiftshop Gift Voucher £50.00</td>\n",
       "      <td>4</td>\n",
       "    </tr>\n",
       "    <tr>\n",
       "      <th>4160</th>\n",
       "      <td>m</td>\n",
       "      <td>Manual</td>\n",
       "      <td>1</td>\n",
       "    </tr>\n",
       "  </tbody>\n",
       "</table>\n",
       "<p>4161 rows × 3 columns</p>\n",
       "</div>"
      ],
      "text/plain": [
       "         StockCode                         Description   0\n",
       "0            10002         INFLATABLE POLITICAL GLOBE   71\n",
       "1            10080            GROOVY CACTUS INFLATABLE  22\n",
       "2            10120                        DOGGY RUBBER  29\n",
       "3           10123C               HEARTS WRAPPING TAPE    3\n",
       "4           10124A         SPOTS ON RED BOOKCOVER TAPE   5\n",
       "...            ...                                 ...  ..\n",
       "4156  gift_0001_20  Dotcomgiftshop Gift Voucher £20.00   9\n",
       "4157  gift_0001_30  Dotcomgiftshop Gift Voucher £30.00   7\n",
       "4158  gift_0001_40  Dotcomgiftshop Gift Voucher £40.00   3\n",
       "4159  gift_0001_50  Dotcomgiftshop Gift Voucher £50.00   4\n",
       "4160             m                              Manual   1\n",
       "\n",
       "[4161 rows x 3 columns]"
      ]
     },
     "execution_count": 16,
     "metadata": {},
     "output_type": "execute_result"
    }
   ],
   "source": [
    "stock_df = pd.DataFrame(data.groupby(['StockCode', 'Description']).size())\n",
    "stock_df.reset_index(inplace=True)\n",
    "stock_df.sort_values('StockCode')"
   ]
  },
  {
   "cell_type": "markdown",
   "metadata": {},
   "source": [
    "### Stock codes with multiple descriptions"
   ]
  },
  {
   "cell_type": "code",
   "execution_count": 17,
   "metadata": {},
   "outputs": [
    {
     "data": {
      "text/html": [
       "<div>\n",
       "<style scoped>\n",
       "    .dataframe tbody tr th:only-of-type {\n",
       "        vertical-align: middle;\n",
       "    }\n",
       "\n",
       "    .dataframe tbody tr th {\n",
       "        vertical-align: top;\n",
       "    }\n",
       "\n",
       "    .dataframe thead th {\n",
       "        text-align: right;\n",
       "    }\n",
       "</style>\n",
       "<table border=\"1\" class=\"dataframe\">\n",
       "  <thead>\n",
       "    <tr style=\"text-align: right;\">\n",
       "      <th></th>\n",
       "      <th>StockCode</th>\n",
       "      <th>Count</th>\n",
       "    </tr>\n",
       "  </thead>\n",
       "  <tbody>\n",
       "    <tr>\n",
       "      <th>46</th>\n",
       "      <td>16156L</td>\n",
       "      <td>2</td>\n",
       "    </tr>\n",
       "    <tr>\n",
       "      <th>104</th>\n",
       "      <td>17107D</td>\n",
       "      <td>3</td>\n",
       "    </tr>\n",
       "    <tr>\n",
       "      <th>123</th>\n",
       "      <td>20622</td>\n",
       "      <td>2</td>\n",
       "    </tr>\n",
       "    <tr>\n",
       "      <th>175</th>\n",
       "      <td>20725</td>\n",
       "      <td>2</td>\n",
       "    </tr>\n",
       "    <tr>\n",
       "      <th>270</th>\n",
       "      <td>20914</td>\n",
       "      <td>2</td>\n",
       "    </tr>\n",
       "    <tr>\n",
       "      <th>...</th>\n",
       "      <td>...</td>\n",
       "      <td>...</td>\n",
       "    </tr>\n",
       "    <tr>\n",
       "      <th>3475</th>\n",
       "      <td>85184C</td>\n",
       "      <td>2</td>\n",
       "    </tr>\n",
       "    <tr>\n",
       "      <th>3477</th>\n",
       "      <td>85185B</td>\n",
       "      <td>2</td>\n",
       "    </tr>\n",
       "    <tr>\n",
       "      <th>3548</th>\n",
       "      <td>90014A</td>\n",
       "      <td>2</td>\n",
       "    </tr>\n",
       "    <tr>\n",
       "      <th>3549</th>\n",
       "      <td>90014B</td>\n",
       "      <td>2</td>\n",
       "    </tr>\n",
       "    <tr>\n",
       "      <th>3550</th>\n",
       "      <td>90014C</td>\n",
       "      <td>2</td>\n",
       "    </tr>\n",
       "  </tbody>\n",
       "</table>\n",
       "<p>220 rows × 2 columns</p>\n",
       "</div>"
      ],
      "text/plain": [
       "     StockCode  Count\n",
       "46      16156L      2\n",
       "104     17107D      3\n",
       "123      20622      2\n",
       "175      20725      2\n",
       "270      20914      2\n",
       "...        ...    ...\n",
       "3475    85184C      2\n",
       "3477    85185B      2\n",
       "3548    90014A      2\n",
       "3549    90014B      2\n",
       "3550    90014C      2\n",
       "\n",
       "[220 rows x 2 columns]"
      ]
     },
     "execution_count": 17,
     "metadata": {},
     "output_type": "execute_result"
    }
   ],
   "source": [
    "stock_df = pd.DataFrame(stock_df.groupby('StockCode').size())\n",
    "stock_df.columns = [\"Count\"]\n",
    "stock_df.reset_index(inplace=True)\n",
    "stock_df = stock_df[stock_df.Count > 1]\n",
    "stock_df"
   ]
  },
  {
   "cell_type": "code",
   "execution_count": 18,
   "metadata": {},
   "outputs": [],
   "source": [
    "for code in stock_df.StockCode:\n",
    "    descriptions = list(data[data.StockCode == code].Description.unique())\n",
    "    new_desc = max_count(descriptions)\n",
    "    data.loc[data.StockCode == code, 'Description'] = new_desc"
   ]
  },
  {
   "cell_type": "code",
   "execution_count": 19,
   "metadata": {},
   "outputs": [
    {
     "data": {
      "text/plain": [
       "3922"
      ]
     },
     "execution_count": 19,
     "metadata": {},
     "output_type": "execute_result"
    }
   ],
   "source": [
    "data.StockCode.nunique()"
   ]
  },
  {
   "cell_type": "code",
   "execution_count": 20,
   "metadata": {},
   "outputs": [
    {
     "data": {
      "text/html": [
       "<div>\n",
       "<style scoped>\n",
       "    .dataframe tbody tr th:only-of-type {\n",
       "        vertical-align: middle;\n",
       "    }\n",
       "\n",
       "    .dataframe tbody tr th {\n",
       "        vertical-align: top;\n",
       "    }\n",
       "\n",
       "    .dataframe thead th {\n",
       "        text-align: right;\n",
       "    }\n",
       "</style>\n",
       "<table border=\"1\" class=\"dataframe\">\n",
       "  <thead>\n",
       "    <tr style=\"text-align: right;\">\n",
       "      <th></th>\n",
       "      <th>Quantity</th>\n",
       "      <th>UnitPrice</th>\n",
       "      <th>CustomerID</th>\n",
       "      <th>TotalSalesAmount</th>\n",
       "    </tr>\n",
       "    <tr>\n",
       "      <th>StockCode</th>\n",
       "      <th></th>\n",
       "      <th></th>\n",
       "      <th></th>\n",
       "      <th></th>\n",
       "    </tr>\n",
       "  </thead>\n",
       "  <tbody>\n",
       "    <tr>\n",
       "      <th>DOT</th>\n",
       "      <td>706</td>\n",
       "      <td>206248.770</td>\n",
       "      <td>225536.0</td>\n",
       "      <td>206248.770</td>\n",
       "    </tr>\n",
       "    <tr>\n",
       "      <th>22423</th>\n",
       "      <td>13851</td>\n",
       "      <td>28065.760</td>\n",
       "      <td>25637419.0</td>\n",
       "      <td>174156.540</td>\n",
       "    </tr>\n",
       "    <tr>\n",
       "      <th>23843</th>\n",
       "      <td>80995</td>\n",
       "      <td>2.080</td>\n",
       "      <td>16446.0</td>\n",
       "      <td>168469.600</td>\n",
       "    </tr>\n",
       "    <tr>\n",
       "      <th>85123A</th>\n",
       "      <td>37641</td>\n",
       "      <td>7024.490</td>\n",
       "      <td>31482068.0</td>\n",
       "      <td>104462.750</td>\n",
       "    </tr>\n",
       "    <tr>\n",
       "      <th>47566</th>\n",
       "      <td>18283</td>\n",
       "      <td>9850.680</td>\n",
       "      <td>21362286.0</td>\n",
       "      <td>99445.230</td>\n",
       "    </tr>\n",
       "    <tr>\n",
       "      <th>...</th>\n",
       "      <td>...</td>\n",
       "      <td>...</td>\n",
       "      <td>...</td>\n",
       "      <td>...</td>\n",
       "    </tr>\n",
       "    <tr>\n",
       "      <th>90084</th>\n",
       "      <td>1</td>\n",
       "      <td>0.850</td>\n",
       "      <td>14701.0</td>\n",
       "      <td>0.850</td>\n",
       "    </tr>\n",
       "    <tr>\n",
       "      <th>21268</th>\n",
       "      <td>2</td>\n",
       "      <td>0.420</td>\n",
       "      <td>15574.0</td>\n",
       "      <td>0.840</td>\n",
       "    </tr>\n",
       "    <tr>\n",
       "      <th>51014c</th>\n",
       "      <td>1</td>\n",
       "      <td>0.830</td>\n",
       "      <td>0.0</td>\n",
       "      <td>0.830</td>\n",
       "    </tr>\n",
       "    <tr>\n",
       "      <th>84227</th>\n",
       "      <td>1</td>\n",
       "      <td>0.420</td>\n",
       "      <td>17841.0</td>\n",
       "      <td>0.420</td>\n",
       "    </tr>\n",
       "    <tr>\n",
       "      <th>PADS</th>\n",
       "      <td>3</td>\n",
       "      <td>0.003</td>\n",
       "      <td>45768.0</td>\n",
       "      <td>0.003</td>\n",
       "    </tr>\n",
       "  </tbody>\n",
       "</table>\n",
       "<p>3922 rows × 4 columns</p>\n",
       "</div>"
      ],
      "text/plain": [
       "           Quantity   UnitPrice  CustomerID  TotalSalesAmount\n",
       "StockCode                                                    \n",
       "DOT             706  206248.770    225536.0        206248.770\n",
       "22423         13851   28065.760  25637419.0        174156.540\n",
       "23843         80995       2.080     16446.0        168469.600\n",
       "85123A        37641    7024.490  31482068.0        104462.750\n",
       "47566         18283    9850.680  21362286.0         99445.230\n",
       "...             ...         ...         ...               ...\n",
       "90084             1       0.850     14701.0             0.850\n",
       "21268             2       0.420     15574.0             0.840\n",
       "51014c            1       0.830         0.0             0.830\n",
       "84227             1       0.420     17841.0             0.420\n",
       "PADS              3       0.003     45768.0             0.003\n",
       "\n",
       "[3922 rows x 4 columns]"
      ]
     },
     "execution_count": 20,
     "metadata": {},
     "output_type": "execute_result"
    }
   ],
   "source": [
    "data.groupby('StockCode').sum().sort_values('TotalSalesAmount', ascending=False)"
   ]
  },
  {
   "cell_type": "code",
   "execution_count": 21,
   "metadata": {},
   "outputs": [
    {
     "data": {
      "text/html": [
       "<div>\n",
       "<style scoped>\n",
       "    .dataframe tbody tr th:only-of-type {\n",
       "        vertical-align: middle;\n",
       "    }\n",
       "\n",
       "    .dataframe tbody tr th {\n",
       "        vertical-align: top;\n",
       "    }\n",
       "\n",
       "    .dataframe thead th {\n",
       "        text-align: right;\n",
       "    }\n",
       "</style>\n",
       "<table border=\"1\" class=\"dataframe\">\n",
       "  <thead>\n",
       "    <tr style=\"text-align: right;\">\n",
       "      <th></th>\n",
       "      <th>Quantity</th>\n",
       "      <th>UnitPrice</th>\n",
       "      <th>CustomerID</th>\n",
       "      <th>TotalSalesAmount</th>\n",
       "    </tr>\n",
       "    <tr>\n",
       "      <th>StockCode</th>\n",
       "      <th></th>\n",
       "      <th></th>\n",
       "      <th></th>\n",
       "      <th></th>\n",
       "    </tr>\n",
       "  </thead>\n",
       "  <tbody>\n",
       "    <tr>\n",
       "      <th>23843</th>\n",
       "      <td>80995</td>\n",
       "      <td>2.08</td>\n",
       "      <td>16446.0</td>\n",
       "      <td>168469.60</td>\n",
       "    </tr>\n",
       "    <tr>\n",
       "      <th>23166</th>\n",
       "      <td>78033</td>\n",
       "      <td>367.12</td>\n",
       "      <td>3047321.0</td>\n",
       "      <td>81700.92</td>\n",
       "    </tr>\n",
       "    <tr>\n",
       "      <th>22197</th>\n",
       "      <td>56898</td>\n",
       "      <td>1479.76</td>\n",
       "      <td>16366320.0</td>\n",
       "      <td>51334.47</td>\n",
       "    </tr>\n",
       "    <tr>\n",
       "      <th>84077</th>\n",
       "      <td>54951</td>\n",
       "      <td>171.91</td>\n",
       "      <td>7213288.0</td>\n",
       "      <td>13814.01</td>\n",
       "    </tr>\n",
       "    <tr>\n",
       "      <th>85099B</th>\n",
       "      <td>48371</td>\n",
       "      <td>5243.39</td>\n",
       "      <td>24700699.0</td>\n",
       "      <td>94159.81</td>\n",
       "    </tr>\n",
       "    <tr>\n",
       "      <th>...</th>\n",
       "      <td>...</td>\n",
       "      <td>...</td>\n",
       "      <td>...</td>\n",
       "      <td>...</td>\n",
       "    </tr>\n",
       "    <tr>\n",
       "      <th>90181C</th>\n",
       "      <td>1</td>\n",
       "      <td>9.15</td>\n",
       "      <td>0.0</td>\n",
       "      <td>9.15</td>\n",
       "    </tr>\n",
       "    <tr>\n",
       "      <th>51014c</th>\n",
       "      <td>1</td>\n",
       "      <td>0.83</td>\n",
       "      <td>0.0</td>\n",
       "      <td>0.83</td>\n",
       "    </tr>\n",
       "    <tr>\n",
       "      <th>47591b</th>\n",
       "      <td>1</td>\n",
       "      <td>4.13</td>\n",
       "      <td>0.0</td>\n",
       "      <td>4.13</td>\n",
       "    </tr>\n",
       "    <tr>\n",
       "      <th>47579</th>\n",
       "      <td>1</td>\n",
       "      <td>2.10</td>\n",
       "      <td>15880.0</td>\n",
       "      <td>2.10</td>\n",
       "    </tr>\n",
       "    <tr>\n",
       "      <th>m</th>\n",
       "      <td>1</td>\n",
       "      <td>2.55</td>\n",
       "      <td>0.0</td>\n",
       "      <td>2.55</td>\n",
       "    </tr>\n",
       "  </tbody>\n",
       "</table>\n",
       "<p>3922 rows × 4 columns</p>\n",
       "</div>"
      ],
      "text/plain": [
       "           Quantity  UnitPrice  CustomerID  TotalSalesAmount\n",
       "StockCode                                                   \n",
       "23843         80995       2.08     16446.0         168469.60\n",
       "23166         78033     367.12   3047321.0          81700.92\n",
       "22197         56898    1479.76  16366320.0          51334.47\n",
       "84077         54951     171.91   7213288.0          13814.01\n",
       "85099B        48371    5243.39  24700699.0          94159.81\n",
       "...             ...        ...         ...               ...\n",
       "90181C            1       9.15         0.0              9.15\n",
       "51014c            1       0.83         0.0              0.83\n",
       "47591b            1       4.13         0.0              4.13\n",
       "47579             1       2.10     15880.0              2.10\n",
       "m                 1       2.55         0.0              2.55\n",
       "\n",
       "[3922 rows x 4 columns]"
      ]
     },
     "execution_count": 21,
     "metadata": {},
     "output_type": "execute_result"
    }
   ],
   "source": [
    "data.groupby('StockCode').sum().sort_values('Quantity', ascending=False)"
   ]
  },
  {
   "cell_type": "markdown",
   "metadata": {},
   "source": [
    "### Checking for missing values after imputing Description"
   ]
  },
  {
   "cell_type": "code",
   "execution_count": 23,
   "metadata": {},
   "outputs": [
    {
     "data": {
      "text/plain": [
       "InvoiceNo                0\n",
       "StockCode                0\n",
       "Description              0\n",
       "Quantity                 0\n",
       "InvoiceDate              0\n",
       "UnitPrice                0\n",
       "CustomerID          132186\n",
       "Country                  0\n",
       "TotalSalesAmount         0\n",
       "dtype: int64"
      ]
     },
     "execution_count": 23,
     "metadata": {},
     "output_type": "execute_result"
    }
   ],
   "source": [
    "data.isnull().sum()"
   ]
  },
  {
   "cell_type": "code",
   "execution_count": 24,
   "metadata": {},
   "outputs": [
    {
     "data": {
      "text/html": [
       "<div>\n",
       "<style scoped>\n",
       "    .dataframe tbody tr th:only-of-type {\n",
       "        vertical-align: middle;\n",
       "    }\n",
       "\n",
       "    .dataframe tbody tr th {\n",
       "        vertical-align: top;\n",
       "    }\n",
       "\n",
       "    .dataframe thead th {\n",
       "        text-align: right;\n",
       "    }\n",
       "</style>\n",
       "<table border=\"1\" class=\"dataframe\">\n",
       "  <thead>\n",
       "    <tr style=\"text-align: right;\">\n",
       "      <th></th>\n",
       "      <th>InvoiceNo</th>\n",
       "      <th>Country</th>\n",
       "    </tr>\n",
       "  </thead>\n",
       "  <tbody>\n",
       "    <tr>\n",
       "      <th>0</th>\n",
       "      <td>536365</td>\n",
       "      <td>United Kingdom</td>\n",
       "    </tr>\n",
       "    <tr>\n",
       "      <th>1</th>\n",
       "      <td>536366</td>\n",
       "      <td>United Kingdom</td>\n",
       "    </tr>\n",
       "    <tr>\n",
       "      <th>2</th>\n",
       "      <td>536367</td>\n",
       "      <td>United Kingdom</td>\n",
       "    </tr>\n",
       "    <tr>\n",
       "      <th>3</th>\n",
       "      <td>536368</td>\n",
       "      <td>United Kingdom</td>\n",
       "    </tr>\n",
       "    <tr>\n",
       "      <th>4</th>\n",
       "      <td>536369</td>\n",
       "      <td>United Kingdom</td>\n",
       "    </tr>\n",
       "    <tr>\n",
       "      <th>...</th>\n",
       "      <td>...</td>\n",
       "      <td>...</td>\n",
       "    </tr>\n",
       "    <tr>\n",
       "      <th>19955</th>\n",
       "      <td>581584</td>\n",
       "      <td>United Kingdom</td>\n",
       "    </tr>\n",
       "    <tr>\n",
       "      <th>19956</th>\n",
       "      <td>581585</td>\n",
       "      <td>United Kingdom</td>\n",
       "    </tr>\n",
       "    <tr>\n",
       "      <th>19957</th>\n",
       "      <td>581586</td>\n",
       "      <td>United Kingdom</td>\n",
       "    </tr>\n",
       "    <tr>\n",
       "      <th>19958</th>\n",
       "      <td>581587</td>\n",
       "      <td>France</td>\n",
       "    </tr>\n",
       "    <tr>\n",
       "      <th>19959</th>\n",
       "      <td>A563185</td>\n",
       "      <td>United Kingdom</td>\n",
       "    </tr>\n",
       "  </tbody>\n",
       "</table>\n",
       "<p>19960 rows × 2 columns</p>\n",
       "</div>"
      ],
      "text/plain": [
       "      InvoiceNo         Country\n",
       "0        536365  United Kingdom\n",
       "1        536366  United Kingdom\n",
       "2        536367  United Kingdom\n",
       "3        536368  United Kingdom\n",
       "4        536369  United Kingdom\n",
       "...         ...             ...\n",
       "19955    581584  United Kingdom\n",
       "19956    581585  United Kingdom\n",
       "19957    581586  United Kingdom\n",
       "19958    581587          France\n",
       "19959   A563185  United Kingdom\n",
       "\n",
       "[19960 rows x 2 columns]"
      ]
     },
     "execution_count": 24,
     "metadata": {},
     "output_type": "execute_result"
    }
   ],
   "source": [
    "country_df = pd.DataFrame(data.groupby(['InvoiceNo', 'Country']).size())\n",
    "country_df.columns = ['Count']\n",
    "country_df.reset_index(inplace=True)\n",
    "country_df.drop(columns='Count')"
   ]
  },
  {
   "cell_type": "markdown",
   "metadata": {},
   "source": [
    "# Number of Invoices for each country"
   ]
  },
  {
   "cell_type": "code",
   "execution_count": 25,
   "metadata": {},
   "outputs": [
    {
     "data": {
      "image/png": "[encoded data removed]",
      "text/plain": [
       "<Figure size 1152x576 with 1 Axes>"
      ]
     },
     "metadata": {
      "needs_background": "light"
     },
     "output_type": "display_data"
    }
   ],
   "source": [
    "plt.figure(figsize=(16,8))\n",
    "\n",
    "chart = sns.countplot(\n",
    "    data=country_df,\n",
    "    x='Country',\n",
    "    palette='Set1',\n",
    ")\n",
    "chart.set_xticklabels(chart.get_xticklabels(), rotation=45, horizontalalignment='right')\n",
    "plt.ylabel('Number of invoices')\n",
    "plt.show()"
   ]
  },
  {
   "cell_type": "markdown",
   "metadata": {},
   "source": [
    "# Identifying outliers: Total Sales Amount distribution for each country"
   ]
  },
  {
   "cell_type": "code",
   "execution_count": 26,
   "metadata": {},
   "outputs": [
    {
     "data": {
      "image/png": "[encoded data removed]",
      "text/plain": [
       "<Figure size 1152x576 with 1 Axes>"
      ]
     },
     "metadata": {
      "needs_background": "light"
     },
     "output_type": "display_data"
    }
   ],
   "source": [
    "plt.figure(figsize=(16,8))\n",
    "\n",
    "ax = sns.boxplot(x=\"Country\", y=\"TotalSalesAmount\", data=data)\n",
    "#chart.set_xticklabels(chart.get_xticklabels(), rotation=45, horizontalalignment='right')\n",
    "#plt.ylabel('Number of invoices')\n",
    "ax.set_xticklabels(ax.get_xticklabels(),rotation=90)\n",
    "plt.show()"
   ]
  },
  {
   "cell_type": "markdown",
   "metadata": {},
   "source": [
    "# Identifying outliers: Distribution of unit price"
   ]
  },
  {
   "cell_type": "code",
   "execution_count": 27,
   "metadata": {},
   "outputs": [
    {
     "data": {
      "text/plain": [
       "<matplotlib.axes._subplots.AxesSubplot at 0x7fb837a5d210>"
      ]
     },
     "execution_count": 27,
     "metadata": {},
     "output_type": "execute_result"
    },
    {
     "data": {
      "image/png": "[encoded data removed]",
      "text/plain": [
       "<Figure size 432x288 with 1 Axes>"
      ]
     },
     "metadata": {
      "needs_background": "light"
     },
     "output_type": "display_data"
    }
   ],
   "source": [
    "sns.boxplot(data.UnitPrice)"
   ]
  },
  {
   "cell_type": "markdown",
   "metadata": {},
   "source": [
    "# Identifying outliers: Distribution of quantity sold for each item for all transactions"
   ]
  },
  {
   "cell_type": "code",
   "execution_count": 28,
   "metadata": {},
   "outputs": [
    {
     "data": {
      "text/plain": [
       "<matplotlib.axes._subplots.AxesSubplot at 0x7fb838774fd0>"
      ]
     },
     "execution_count": 28,
     "metadata": {},
     "output_type": "execute_result"
    },
    {
     "data": {
      "image/png": "[encoded data removed]",
      "text/plain": [
       "<Figure size 432x288 with 1 Axes>"
      ]
     },
     "metadata": {
      "needs_background": "light"
     },
     "output_type": "display_data"
    }
   ],
   "source": [
    "sns.boxplot(data.Quantity)"
   ]
  },
  {
   "cell_type": "markdown",
   "metadata": {},
   "source": [
    "# Identifying outliers: Distribution of total sales amount"
   ]
  },
  {
   "cell_type": "code",
   "execution_count": 29,
   "metadata": {},
   "outputs": [
    {
     "data": {
      "text/plain": [
       "<matplotlib.axes._subplots.AxesSubplot at 0x7fb83824b2d0>"
      ]
     },
     "execution_count": 29,
     "metadata": {},
     "output_type": "execute_result"
    },
    {
     "data": {
      "image/png": "[encoded data removed]",
      "text/plain": [
       "<Figure size 432x288 with 1 Axes>"
      ]
     },
     "metadata": {
      "needs_background": "light"
     },
     "output_type": "display_data"
    }
   ],
   "source": [
    "sns.boxplot(data.TotalSalesAmount)"
   ]
  },
  {
   "cell_type": "code",
   "execution_count": 30,
   "metadata": {},
   "outputs": [
    {
     "data": {
      "text/html": [
       "<div>\n",
       "<style scoped>\n",
       "    .dataframe tbody tr th:only-of-type {\n",
       "        vertical-align: middle;\n",
       "    }\n",
       "\n",
       "    .dataframe tbody tr th {\n",
       "        vertical-align: top;\n",
       "    }\n",
       "\n",
       "    .dataframe thead th {\n",
       "        text-align: right;\n",
       "    }\n",
       "</style>\n",
       "<table border=\"1\" class=\"dataframe\">\n",
       "  <thead>\n",
       "    <tr style=\"text-align: right;\">\n",
       "      <th></th>\n",
       "      <th>Quantity</th>\n",
       "      <th>UnitPrice</th>\n",
       "      <th>CustomerID</th>\n",
       "      <th>TotalSalesAmount</th>\n",
       "    </tr>\n",
       "  </thead>\n",
       "  <tbody>\n",
       "    <tr>\n",
       "      <th>count</th>\n",
       "      <td>524878.000000</td>\n",
       "      <td>524878.000000</td>\n",
       "      <td>392692.000000</td>\n",
       "      <td>524878.000000</td>\n",
       "    </tr>\n",
       "    <tr>\n",
       "      <th>mean</th>\n",
       "      <td>10.616600</td>\n",
       "      <td>3.922573</td>\n",
       "      <td>15287.843865</td>\n",
       "      <td>20.275399</td>\n",
       "    </tr>\n",
       "    <tr>\n",
       "      <th>std</th>\n",
       "      <td>156.280031</td>\n",
       "      <td>36.093028</td>\n",
       "      <td>1713.539549</td>\n",
       "      <td>271.693566</td>\n",
       "    </tr>\n",
       "    <tr>\n",
       "      <th>min</th>\n",
       "      <td>1.000000</td>\n",
       "      <td>0.001000</td>\n",
       "      <td>12346.000000</td>\n",
       "      <td>0.001000</td>\n",
       "    </tr>\n",
       "    <tr>\n",
       "      <th>25%</th>\n",
       "      <td>1.000000</td>\n",
       "      <td>1.250000</td>\n",
       "      <td>13955.000000</td>\n",
       "      <td>3.900000</td>\n",
       "    </tr>\n",
       "    <tr>\n",
       "      <th>50%</th>\n",
       "      <td>4.000000</td>\n",
       "      <td>2.080000</td>\n",
       "      <td>15150.000000</td>\n",
       "      <td>9.920000</td>\n",
       "    </tr>\n",
       "    <tr>\n",
       "      <th>75%</th>\n",
       "      <td>11.000000</td>\n",
       "      <td>4.130000</td>\n",
       "      <td>16791.000000</td>\n",
       "      <td>17.700000</td>\n",
       "    </tr>\n",
       "    <tr>\n",
       "      <th>max</th>\n",
       "      <td>80995.000000</td>\n",
       "      <td>13541.330000</td>\n",
       "      <td>18287.000000</td>\n",
       "      <td>168469.600000</td>\n",
       "    </tr>\n",
       "  </tbody>\n",
       "</table>\n",
       "</div>"
      ],
      "text/plain": [
       "            Quantity      UnitPrice     CustomerID  TotalSalesAmount\n",
       "count  524878.000000  524878.000000  392692.000000     524878.000000\n",
       "mean       10.616600       3.922573   15287.843865         20.275399\n",
       "std       156.280031      36.093028    1713.539549        271.693566\n",
       "min         1.000000       0.001000   12346.000000          0.001000\n",
       "25%         1.000000       1.250000   13955.000000          3.900000\n",
       "50%         4.000000       2.080000   15150.000000          9.920000\n",
       "75%        11.000000       4.130000   16791.000000         17.700000\n",
       "max     80995.000000   13541.330000   18287.000000     168469.600000"
      ]
     },
     "execution_count": 30,
     "metadata": {},
     "output_type": "execute_result"
    }
   ],
   "source": [
    "data.describe()"
   ]
  },
  {
   "cell_type": "markdown",
   "metadata": {},
   "source": [
    "# Q1: Top 10 customers by total sales amount"
   ]
  },
  {
   "cell_type": "code",
   "execution_count": 35,
   "metadata": {},
   "outputs": [
    {
     "data": {
      "text/html": [
       "<div>\n",
       "<style scoped>\n",
       "    .dataframe tbody tr th:only-of-type {\n",
       "        vertical-align: middle;\n",
       "    }\n",
       "\n",
       "    .dataframe tbody tr th {\n",
       "        vertical-align: top;\n",
       "    }\n",
       "\n",
       "    .dataframe thead th {\n",
       "        text-align: right;\n",
       "    }\n",
       "</style>\n",
       "<table border=\"1\" class=\"dataframe\">\n",
       "  <thead>\n",
       "    <tr style=\"text-align: right;\">\n",
       "      <th></th>\n",
       "      <th>Quantity</th>\n",
       "      <th>UnitPrice</th>\n",
       "      <th>TotalSalesAmount</th>\n",
       "    </tr>\n",
       "    <tr>\n",
       "      <th>CustomerID</th>\n",
       "      <th></th>\n",
       "      <th></th>\n",
       "      <th></th>\n",
       "    </tr>\n",
       "  </thead>\n",
       "  <tbody>\n",
       "    <tr>\n",
       "      <th>14646.0</th>\n",
       "      <td>196915</td>\n",
       "      <td>5176.09</td>\n",
       "      <td>280206.02</td>\n",
       "    </tr>\n",
       "    <tr>\n",
       "      <th>18102.0</th>\n",
       "      <td>64124</td>\n",
       "      <td>1940.92</td>\n",
       "      <td>259657.30</td>\n",
       "    </tr>\n",
       "    <tr>\n",
       "      <th>17450.0</th>\n",
       "      <td>69973</td>\n",
       "      <td>1135.32</td>\n",
       "      <td>194390.79</td>\n",
       "    </tr>\n",
       "    <tr>\n",
       "      <th>16446.0</th>\n",
       "      <td>80997</td>\n",
       "      <td>4.98</td>\n",
       "      <td>168472.50</td>\n",
       "    </tr>\n",
       "    <tr>\n",
       "      <th>14911.0</th>\n",
       "      <td>80240</td>\n",
       "      <td>26150.35</td>\n",
       "      <td>143711.17</td>\n",
       "    </tr>\n",
       "    <tr>\n",
       "      <th>12415.0</th>\n",
       "      <td>77374</td>\n",
       "      <td>2097.08</td>\n",
       "      <td>124914.53</td>\n",
       "    </tr>\n",
       "    <tr>\n",
       "      <th>14156.0</th>\n",
       "      <td>57768</td>\n",
       "      <td>5348.73</td>\n",
       "      <td>117210.08</td>\n",
       "    </tr>\n",
       "    <tr>\n",
       "      <th>17511.0</th>\n",
       "      <td>64549</td>\n",
       "      <td>2221.28</td>\n",
       "      <td>91062.38</td>\n",
       "    </tr>\n",
       "    <tr>\n",
       "      <th>16029.0</th>\n",
       "      <td>40108</td>\n",
       "      <td>8720.65</td>\n",
       "      <td>80850.84</td>\n",
       "    </tr>\n",
       "    <tr>\n",
       "      <th>12346.0</th>\n",
       "      <td>74215</td>\n",
       "      <td>1.04</td>\n",
       "      <td>77183.60</td>\n",
       "    </tr>\n",
       "  </tbody>\n",
       "</table>\n",
       "</div>"
      ],
      "text/plain": [
       "            Quantity  UnitPrice  TotalSalesAmount\n",
       "CustomerID                                       \n",
       "14646.0       196915    5176.09         280206.02\n",
       "18102.0        64124    1940.92         259657.30\n",
       "17450.0        69973    1135.32         194390.79\n",
       "16446.0        80997       4.98         168472.50\n",
       "14911.0        80240   26150.35         143711.17\n",
       "12415.0        77374    2097.08         124914.53\n",
       "14156.0        57768    5348.73         117210.08\n",
       "17511.0        64549    2221.28          91062.38\n",
       "16029.0        40108    8720.65          80850.84\n",
       "12346.0        74215       1.04          77183.60"
      ]
     },
     "execution_count": 35,
     "metadata": {},
     "output_type": "execute_result"
    }
   ],
   "source": [
    "data.groupby('CustomerID').sum().sort_values('TotalSalesAmount', ascending=False).head(10)"
   ]
  },
  {
   "cell_type": "markdown",
   "metadata": {},
   "source": [
    "# Q2: Top 10 transactions (incoice no) by total sales amount"
   ]
  },
  {
   "cell_type": "code",
   "execution_count": 36,
   "metadata": {},
   "outputs": [
    {
     "data": {
      "text/html": [
       "<div>\n",
       "<style scoped>\n",
       "    .dataframe tbody tr th:only-of-type {\n",
       "        vertical-align: middle;\n",
       "    }\n",
       "\n",
       "    .dataframe tbody tr th {\n",
       "        vertical-align: top;\n",
       "    }\n",
       "\n",
       "    .dataframe thead th {\n",
       "        text-align: right;\n",
       "    }\n",
       "</style>\n",
       "<table border=\"1\" class=\"dataframe\">\n",
       "  <thead>\n",
       "    <tr style=\"text-align: right;\">\n",
       "      <th></th>\n",
       "      <th>Quantity</th>\n",
       "      <th>UnitPrice</th>\n",
       "      <th>CustomerID</th>\n",
       "      <th>TotalSalesAmount</th>\n",
       "    </tr>\n",
       "    <tr>\n",
       "      <th>InvoiceNo</th>\n",
       "      <th></th>\n",
       "      <th></th>\n",
       "      <th></th>\n",
       "      <th></th>\n",
       "    </tr>\n",
       "  </thead>\n",
       "  <tbody>\n",
       "    <tr>\n",
       "      <th>581483</th>\n",
       "      <td>80995</td>\n",
       "      <td>2.08</td>\n",
       "      <td>16446.0</td>\n",
       "      <td>168469.60</td>\n",
       "    </tr>\n",
       "    <tr>\n",
       "      <th>541431</th>\n",
       "      <td>74215</td>\n",
       "      <td>1.04</td>\n",
       "      <td>12346.0</td>\n",
       "      <td>77183.60</td>\n",
       "    </tr>\n",
       "    <tr>\n",
       "      <th>574941</th>\n",
       "      <td>14149</td>\n",
       "      <td>498.89</td>\n",
       "      <td>0.0</td>\n",
       "      <td>52940.94</td>\n",
       "    </tr>\n",
       "    <tr>\n",
       "      <th>576365</th>\n",
       "      <td>13956</td>\n",
       "      <td>469.51</td>\n",
       "      <td>0.0</td>\n",
       "      <td>50653.91</td>\n",
       "    </tr>\n",
       "    <tr>\n",
       "      <th>556444</th>\n",
       "      <td>60</td>\n",
       "      <td>649.50</td>\n",
       "      <td>15098.0</td>\n",
       "      <td>38970.00</td>\n",
       "    </tr>\n",
       "    <tr>\n",
       "      <th>567423</th>\n",
       "      <td>12572</td>\n",
       "      <td>36.77</td>\n",
       "      <td>209400.0</td>\n",
       "      <td>31698.16</td>\n",
       "    </tr>\n",
       "    <tr>\n",
       "      <th>556917</th>\n",
       "      <td>15049</td>\n",
       "      <td>283.57</td>\n",
       "      <td>1713270.0</td>\n",
       "      <td>22775.93</td>\n",
       "    </tr>\n",
       "    <tr>\n",
       "      <th>572209</th>\n",
       "      <td>1920</td>\n",
       "      <td>86.50</td>\n",
       "      <td>126714.0</td>\n",
       "      <td>22206.00</td>\n",
       "    </tr>\n",
       "    <tr>\n",
       "      <th>567381</th>\n",
       "      <td>6760</td>\n",
       "      <td>42.60</td>\n",
       "      <td>209400.0</td>\n",
       "      <td>22104.80</td>\n",
       "    </tr>\n",
       "    <tr>\n",
       "      <th>563614</th>\n",
       "      <td>12196</td>\n",
       "      <td>218.72</td>\n",
       "      <td>1204255.0</td>\n",
       "      <td>21880.44</td>\n",
       "    </tr>\n",
       "  </tbody>\n",
       "</table>\n",
       "</div>"
      ],
      "text/plain": [
       "           Quantity  UnitPrice  CustomerID  TotalSalesAmount\n",
       "InvoiceNo                                                   \n",
       "581483        80995       2.08     16446.0         168469.60\n",
       "541431        74215       1.04     12346.0          77183.60\n",
       "574941        14149     498.89         0.0          52940.94\n",
       "576365        13956     469.51         0.0          50653.91\n",
       "556444           60     649.50     15098.0          38970.00\n",
       "567423        12572      36.77    209400.0          31698.16\n",
       "556917        15049     283.57   1713270.0          22775.93\n",
       "572209         1920      86.50    126714.0          22206.00\n",
       "567381         6760      42.60    209400.0          22104.80\n",
       "563614        12196     218.72   1204255.0          21880.44"
      ]
     },
     "execution_count": 36,
     "metadata": {},
     "output_type": "execute_result"
    }
   ],
   "source": [
    "data.groupby('InvoiceNo').sum().sort_values('TotalSalesAmount', ascending=False).head(10)"
   ]
  },
  {
   "cell_type": "code",
   "execution_count": 37,
   "metadata": {},
   "outputs": [
    {
     "data": {
      "text/html": [
       "<div>\n",
       "<style scoped>\n",
       "    .dataframe tbody tr th:only-of-type {\n",
       "        vertical-align: middle;\n",
       "    }\n",
       "\n",
       "    .dataframe tbody tr th {\n",
       "        vertical-align: top;\n",
       "    }\n",
       "\n",
       "    .dataframe thead th {\n",
       "        text-align: right;\n",
       "    }\n",
       "</style>\n",
       "<table border=\"1\" class=\"dataframe\">\n",
       "  <thead>\n",
       "    <tr style=\"text-align: right;\">\n",
       "      <th></th>\n",
       "      <th>InvoiceNo</th>\n",
       "      <th>StockCode</th>\n",
       "      <th>Description</th>\n",
       "      <th>Quantity</th>\n",
       "      <th>InvoiceDate</th>\n",
       "      <th>UnitPrice</th>\n",
       "      <th>CustomerID</th>\n",
       "      <th>Country</th>\n",
       "      <th>TotalSalesAmount</th>\n",
       "      <th>InvoiceMonth</th>\n",
       "    </tr>\n",
       "  </thead>\n",
       "  <tbody>\n",
       "    <tr>\n",
       "      <th>0</th>\n",
       "      <td>536365</td>\n",
       "      <td>85123A</td>\n",
       "      <td>CREAM HANGING HEART T-LIGHT HOLDER</td>\n",
       "      <td>6</td>\n",
       "      <td>2010-12-01 08:26:00</td>\n",
       "      <td>2.55</td>\n",
       "      <td>17850.0</td>\n",
       "      <td>United Kingdom</td>\n",
       "      <td>15.30</td>\n",
       "      <td>2010-12-01</td>\n",
       "    </tr>\n",
       "    <tr>\n",
       "      <th>1</th>\n",
       "      <td>536365</td>\n",
       "      <td>71053</td>\n",
       "      <td>WHITE METAL LANTERN</td>\n",
       "      <td>6</td>\n",
       "      <td>2010-12-01 08:26:00</td>\n",
       "      <td>3.39</td>\n",
       "      <td>17850.0</td>\n",
       "      <td>United Kingdom</td>\n",
       "      <td>20.34</td>\n",
       "      <td>2010-12-01</td>\n",
       "    </tr>\n",
       "    <tr>\n",
       "      <th>2</th>\n",
       "      <td>536365</td>\n",
       "      <td>84406B</td>\n",
       "      <td>CREAM CUPID HEARTS COAT HANGER</td>\n",
       "      <td>8</td>\n",
       "      <td>2010-12-01 08:26:00</td>\n",
       "      <td>2.75</td>\n",
       "      <td>17850.0</td>\n",
       "      <td>United Kingdom</td>\n",
       "      <td>22.00</td>\n",
       "      <td>2010-12-01</td>\n",
       "    </tr>\n",
       "    <tr>\n",
       "      <th>3</th>\n",
       "      <td>536365</td>\n",
       "      <td>84029G</td>\n",
       "      <td>KNITTED UNION FLAG HOT WATER BOTTLE</td>\n",
       "      <td>6</td>\n",
       "      <td>2010-12-01 08:26:00</td>\n",
       "      <td>3.39</td>\n",
       "      <td>17850.0</td>\n",
       "      <td>United Kingdom</td>\n",
       "      <td>20.34</td>\n",
       "      <td>2010-12-01</td>\n",
       "    </tr>\n",
       "    <tr>\n",
       "      <th>4</th>\n",
       "      <td>536365</td>\n",
       "      <td>84029E</td>\n",
       "      <td>RED WOOLLY HOTTIE WHITE HEART.</td>\n",
       "      <td>6</td>\n",
       "      <td>2010-12-01 08:26:00</td>\n",
       "      <td>3.39</td>\n",
       "      <td>17850.0</td>\n",
       "      <td>United Kingdom</td>\n",
       "      <td>20.34</td>\n",
       "      <td>2010-12-01</td>\n",
       "    </tr>\n",
       "  </tbody>\n",
       "</table>\n",
       "</div>"
      ],
      "text/plain": [
       "  InvoiceNo StockCode                          Description  Quantity  \\\n",
       "0    536365    85123A   CREAM HANGING HEART T-LIGHT HOLDER         6   \n",
       "1    536365     71053                  WHITE METAL LANTERN         6   \n",
       "2    536365    84406B       CREAM CUPID HEARTS COAT HANGER         8   \n",
       "3    536365    84029G  KNITTED UNION FLAG HOT WATER BOTTLE         6   \n",
       "4    536365    84029E       RED WOOLLY HOTTIE WHITE HEART.         6   \n",
       "\n",
       "          InvoiceDate  UnitPrice  CustomerID         Country  \\\n",
       "0 2010-12-01 08:26:00       2.55     17850.0  United Kingdom   \n",
       "1 2010-12-01 08:26:00       3.39     17850.0  United Kingdom   \n",
       "2 2010-12-01 08:26:00       2.75     17850.0  United Kingdom   \n",
       "3 2010-12-01 08:26:00       3.39     17850.0  United Kingdom   \n",
       "4 2010-12-01 08:26:00       3.39     17850.0  United Kingdom   \n",
       "\n",
       "   TotalSalesAmount InvoiceMonth  \n",
       "0             15.30   2010-12-01  \n",
       "1             20.34   2010-12-01  \n",
       "2             22.00   2010-12-01  \n",
       "3             20.34   2010-12-01  \n",
       "4             20.34   2010-12-01  "
      ]
     },
     "execution_count": 37,
     "metadata": {},
     "output_type": "execute_result"
    }
   ],
   "source": [
    "data['InvoiceMonth'] = data.InvoiceDate.dt.month.astype(str) + '-' + data.InvoiceDate.dt.year.astype('str')\n",
    "data.InvoiceMonth = pd.to_datetime(data.InvoiceMonth)\n",
    "data.head()"
   ]
  },
  {
   "cell_type": "markdown",
   "metadata": {},
   "source": [
    "# Q3: Total sales amount trend from Dec-2010 to Dec-2012"
   ]
  },
  {
   "cell_type": "code",
   "execution_count": 38,
   "metadata": {},
   "outputs": [
    {
     "data": {
      "image/png": "[encoded data removed]",
      "text/plain": [
       "<Figure size 1152x576 with 1 Axes>"
      ]
     },
     "metadata": {
      "needs_background": "light"
     },
     "output_type": "display_data"
    }
   ],
   "source": [
    "plt.figure(figsize=(16,8))\n",
    "sns.lineplot(x='InvoiceMonth', y='TotalSalesAmount', data=data)\n",
    "plt.ylabel('Monthly Sale')\n",
    "plt.show()"
   ]
  },
  {
   "cell_type": "markdown",
   "metadata": {},
   "source": [
    "# Q4: Average sales for each product"
   ]
  },
  {
   "cell_type": "code",
   "execution_count": 39,
   "metadata": {},
   "outputs": [
    {
     "data": {
      "text/html": [
       "<div>\n",
       "<style scoped>\n",
       "    .dataframe tbody tr th:only-of-type {\n",
       "        vertical-align: middle;\n",
       "    }\n",
       "\n",
       "    .dataframe tbody tr th {\n",
       "        vertical-align: top;\n",
       "    }\n",
       "\n",
       "    .dataframe thead th {\n",
       "        text-align: right;\n",
       "    }\n",
       "</style>\n",
       "<table border=\"1\" class=\"dataframe\">\n",
       "  <thead>\n",
       "    <tr style=\"text-align: right;\">\n",
       "      <th></th>\n",
       "      <th></th>\n",
       "      <th>Quantity</th>\n",
       "      <th>UnitPrice</th>\n",
       "      <th>CustomerID</th>\n",
       "      <th>TotalSalesAmount</th>\n",
       "    </tr>\n",
       "    <tr>\n",
       "      <th>StockCode</th>\n",
       "      <th>Description</th>\n",
       "      <th></th>\n",
       "      <th></th>\n",
       "      <th></th>\n",
       "      <th></th>\n",
       "    </tr>\n",
       "  </thead>\n",
       "  <tbody>\n",
       "    <tr>\n",
       "      <th>23843</th>\n",
       "      <th>PAPER CRAFT , LITTLE BIRDIE</th>\n",
       "      <td>80995.000000</td>\n",
       "      <td>2.080000</td>\n",
       "      <td>16446.000000</td>\n",
       "      <td>168469.600000</td>\n",
       "    </tr>\n",
       "    <tr>\n",
       "      <th>47556B</th>\n",
       "      <th>TEA TIME TEA TOWELS</th>\n",
       "      <td>1300.000000</td>\n",
       "      <td>2.325000</td>\n",
       "      <td>15749.000000</td>\n",
       "      <td>3022.500000</td>\n",
       "    </tr>\n",
       "    <tr>\n",
       "      <th>23166</th>\n",
       "      <th>MEDIUM CERAMIC TOP STORAGE JAR</th>\n",
       "      <td>312.132000</td>\n",
       "      <td>1.468480</td>\n",
       "      <td>15390.510101</td>\n",
       "      <td>326.803680</td>\n",
       "    </tr>\n",
       "    <tr>\n",
       "      <th>16014</th>\n",
       "      <th>SMALL CHINESE STYLE SCISSOR</th>\n",
       "      <td>246.814815</td>\n",
       "      <td>0.401481</td>\n",
       "      <td>15447.537037</td>\n",
       "      <td>80.291852</td>\n",
       "    </tr>\n",
       "    <tr>\n",
       "      <th>16033</th>\n",
       "      <th>MINI HIGHLIGHTER PENS</th>\n",
       "      <td>210.000000</td>\n",
       "      <td>0.120000</td>\n",
       "      <td>16987.750000</td>\n",
       "      <td>25.200000</td>\n",
       "    </tr>\n",
       "    <tr>\n",
       "      <th>...</th>\n",
       "      <th>...</th>\n",
       "      <td>...</td>\n",
       "      <td>...</td>\n",
       "      <td>...</td>\n",
       "      <td>...</td>\n",
       "    </tr>\n",
       "    <tr>\n",
       "      <th>22528</th>\n",
       "      <th>GARDENERS KNEELING PAD</th>\n",
       "      <td>1.000000</td>\n",
       "      <td>3.360000</td>\n",
       "      <td>NaN</td>\n",
       "      <td>3.360000</td>\n",
       "    </tr>\n",
       "    <tr>\n",
       "      <th>23574</th>\n",
       "      <th>PACKING CHARGE</th>\n",
       "      <td>1.000000</td>\n",
       "      <td>7.500000</td>\n",
       "      <td>15409.000000</td>\n",
       "      <td>7.500000</td>\n",
       "    </tr>\n",
       "    <tr>\n",
       "      <th>85184c</th>\n",
       "      <th>SET 4 VALENTINE DECOUPAGE HEART BOX</th>\n",
       "      <td>1.000000</td>\n",
       "      <td>5.790000</td>\n",
       "      <td>NaN</td>\n",
       "      <td>5.790000</td>\n",
       "    </tr>\n",
       "    <tr>\n",
       "      <th>85179a</th>\n",
       "      <th>GREEN BITTY LIGHT CHAIN</th>\n",
       "      <td>1.000000</td>\n",
       "      <td>2.460000</td>\n",
       "      <td>NaN</td>\n",
       "      <td>2.460000</td>\n",
       "    </tr>\n",
       "    <tr>\n",
       "      <th>m</th>\n",
       "      <th>Manual</th>\n",
       "      <td>1.000000</td>\n",
       "      <td>2.550000</td>\n",
       "      <td>NaN</td>\n",
       "      <td>2.550000</td>\n",
       "    </tr>\n",
       "  </tbody>\n",
       "</table>\n",
       "<p>3922 rows × 4 columns</p>\n",
       "</div>"
      ],
      "text/plain": [
       "                                                   Quantity  UnitPrice  \\\n",
       "StockCode Description                                                    \n",
       "23843     PAPER CRAFT , LITTLE BIRDIE          80995.000000   2.080000   \n",
       "47556B    TEA TIME TEA TOWELS                   1300.000000   2.325000   \n",
       "23166     MEDIUM CERAMIC TOP STORAGE JAR         312.132000   1.468480   \n",
       "16014     SMALL CHINESE STYLE SCISSOR            246.814815   0.401481   \n",
       "16033     MINI HIGHLIGHTER PENS                  210.000000   0.120000   \n",
       "...                                                     ...        ...   \n",
       "22528     GARDENERS KNEELING PAD                   1.000000   3.360000   \n",
       "23574     PACKING CHARGE                           1.000000   7.500000   \n",
       "85184c    SET 4 VALENTINE DECOUPAGE HEART BOX      1.000000   5.790000   \n",
       "85179a    GREEN BITTY LIGHT CHAIN                  1.000000   2.460000   \n",
       "m         Manual                                   1.000000   2.550000   \n",
       "\n",
       "                                                 CustomerID  TotalSalesAmount  \n",
       "StockCode Description                                                          \n",
       "23843     PAPER CRAFT , LITTLE BIRDIE          16446.000000     168469.600000  \n",
       "47556B    TEA TIME TEA TOWELS                  15749.000000       3022.500000  \n",
       "23166     MEDIUM CERAMIC TOP STORAGE JAR       15390.510101        326.803680  \n",
       "16014     SMALL CHINESE STYLE SCISSOR          15447.537037         80.291852  \n",
       "16033     MINI HIGHLIGHTER PENS                16987.750000         25.200000  \n",
       "...                                                     ...               ...  \n",
       "22528     GARDENERS KNEELING PAD                        NaN          3.360000  \n",
       "23574     PACKING CHARGE                       15409.000000          7.500000  \n",
       "85184c    SET 4 VALENTINE DECOUPAGE HEART BOX           NaN          5.790000  \n",
       "85179a    GREEN BITTY LIGHT CHAIN                       NaN          2.460000  \n",
       "m         Manual                                        NaN          2.550000  \n",
       "\n",
       "[3922 rows x 4 columns]"
      ]
     },
     "execution_count": 39,
     "metadata": {},
     "output_type": "execute_result"
    }
   ],
   "source": [
    "data.groupby(['StockCode', 'Description']).mean().sort_values('Quantity', ascending=False)"
   ]
  },
  {
   "cell_type": "markdown",
   "metadata": {},
   "source": [
    "# Q5: Top 10 products by Total Sales Amount"
   ]
  },
  {
   "cell_type": "code",
   "execution_count": 40,
   "metadata": {},
   "outputs": [
    {
     "data": {
      "text/html": [
       "<div>\n",
       "<style scoped>\n",
       "    .dataframe tbody tr th:only-of-type {\n",
       "        vertical-align: middle;\n",
       "    }\n",
       "\n",
       "    .dataframe tbody tr th {\n",
       "        vertical-align: top;\n",
       "    }\n",
       "\n",
       "    .dataframe thead th {\n",
       "        text-align: right;\n",
       "    }\n",
       "</style>\n",
       "<table border=\"1\" class=\"dataframe\">\n",
       "  <thead>\n",
       "    <tr style=\"text-align: right;\">\n",
       "      <th></th>\n",
       "      <th></th>\n",
       "      <th>Quantity</th>\n",
       "      <th>UnitPrice</th>\n",
       "      <th>CustomerID</th>\n",
       "      <th>TotalSalesAmount</th>\n",
       "    </tr>\n",
       "    <tr>\n",
       "      <th>StockCode</th>\n",
       "      <th>Description</th>\n",
       "      <th></th>\n",
       "      <th></th>\n",
       "      <th></th>\n",
       "      <th></th>\n",
       "    </tr>\n",
       "  </thead>\n",
       "  <tbody>\n",
       "    <tr>\n",
       "      <th>DOT</th>\n",
       "      <th>DOTCOM POSTAGE</th>\n",
       "      <td>706</td>\n",
       "      <td>206248.77</td>\n",
       "      <td>225536.0</td>\n",
       "      <td>206248.77</td>\n",
       "    </tr>\n",
       "    <tr>\n",
       "      <th>22423</th>\n",
       "      <th>REGENCY CAKESTAND 3 TIER</th>\n",
       "      <td>13851</td>\n",
       "      <td>28065.76</td>\n",
       "      <td>25637419.0</td>\n",
       "      <td>174156.54</td>\n",
       "    </tr>\n",
       "    <tr>\n",
       "      <th>23843</th>\n",
       "      <th>PAPER CRAFT , LITTLE BIRDIE</th>\n",
       "      <td>80995</td>\n",
       "      <td>2.08</td>\n",
       "      <td>16446.0</td>\n",
       "      <td>168469.60</td>\n",
       "    </tr>\n",
       "    <tr>\n",
       "      <th>85123A</th>\n",
       "      <th>CREAM HANGING HEART T-LIGHT HOLDER</th>\n",
       "      <td>37641</td>\n",
       "      <td>7024.49</td>\n",
       "      <td>31482068.0</td>\n",
       "      <td>104462.75</td>\n",
       "    </tr>\n",
       "    <tr>\n",
       "      <th>47566</th>\n",
       "      <th>PARTY BUNTING</th>\n",
       "      <td>18283</td>\n",
       "      <td>9850.68</td>\n",
       "      <td>21362286.0</td>\n",
       "      <td>99445.23</td>\n",
       "    </tr>\n",
       "    <tr>\n",
       "      <th>85099B</th>\n",
       "      <th>JUMBO BAG RED RETROSPOT</th>\n",
       "      <td>48371</td>\n",
       "      <td>5243.39</td>\n",
       "      <td>24700699.0</td>\n",
       "      <td>94159.81</td>\n",
       "    </tr>\n",
       "    <tr>\n",
       "      <th>23166</th>\n",
       "      <th>MEDIUM CERAMIC TOP STORAGE JAR</th>\n",
       "      <td>78033</td>\n",
       "      <td>367.12</td>\n",
       "      <td>3047321.0</td>\n",
       "      <td>81700.92</td>\n",
       "    </tr>\n",
       "    <tr>\n",
       "      <th>POST</th>\n",
       "      <th>POSTAGE</th>\n",
       "      <td>3150</td>\n",
       "      <td>34992.23</td>\n",
       "      <td>14015033.0</td>\n",
       "      <td>78101.88</td>\n",
       "    </tr>\n",
       "    <tr>\n",
       "      <th>M</th>\n",
       "      <th>Manual</th>\n",
       "      <td>6984</td>\n",
       "      <td>74098.73</td>\n",
       "      <td>4302563.0</td>\n",
       "      <td>77750.27</td>\n",
       "    </tr>\n",
       "    <tr>\n",
       "      <th>23084</th>\n",
       "      <th>RABBIT NIGHT LIGHT</th>\n",
       "      <td>30739</td>\n",
       "      <td>2426.97</td>\n",
       "      <td>12264242.0</td>\n",
       "      <td>66870.03</td>\n",
       "    </tr>\n",
       "  </tbody>\n",
       "</table>\n",
       "</div>"
      ],
      "text/plain": [
       "                                              Quantity  UnitPrice  CustomerID  \\\n",
       "StockCode Description                                                           \n",
       "DOT       DOTCOM POSTAGE                           706  206248.77    225536.0   \n",
       "22423     REGENCY CAKESTAND 3 TIER               13851   28065.76  25637419.0   \n",
       "23843     PAPER CRAFT , LITTLE BIRDIE            80995       2.08     16446.0   \n",
       "85123A    CREAM HANGING HEART T-LIGHT HOLDER     37641    7024.49  31482068.0   \n",
       "47566     PARTY BUNTING                          18283    9850.68  21362286.0   \n",
       "85099B    JUMBO BAG RED RETROSPOT                48371    5243.39  24700699.0   \n",
       "23166     MEDIUM CERAMIC TOP STORAGE JAR         78033     367.12   3047321.0   \n",
       "POST      POSTAGE                                 3150   34992.23  14015033.0   \n",
       "M         Manual                                  6984   74098.73   4302563.0   \n",
       "23084     RABBIT NIGHT LIGHT                     30739    2426.97  12264242.0   \n",
       "\n",
       "                                              TotalSalesAmount  \n",
       "StockCode Description                                           \n",
       "DOT       DOTCOM POSTAGE                             206248.77  \n",
       "22423     REGENCY CAKESTAND 3 TIER                   174156.54  \n",
       "23843     PAPER CRAFT , LITTLE BIRDIE                168469.60  \n",
       "85123A    CREAM HANGING HEART T-LIGHT HOLDER         104462.75  \n",
       "47566     PARTY BUNTING                               99445.23  \n",
       "85099B    JUMBO BAG RED RETROSPOT                     94159.81  \n",
       "23166     MEDIUM CERAMIC TOP STORAGE JAR              81700.92  \n",
       "POST      POSTAGE                                     78101.88  \n",
       "M         Manual                                      77750.27  \n",
       "23084     RABBIT NIGHT LIGHT                          66870.03  "
      ]
     },
     "execution_count": 40,
     "metadata": {},
     "output_type": "execute_result"
    }
   ],
   "source": [
    "data.groupby(['StockCode', 'Description']).sum().sort_values('TotalSalesAmount', ascending=False).head(10)"
   ]
  },
  {
   "cell_type": "markdown",
   "metadata": {},
   "source": [
    "# Q6: Top 10 products by Quantity sold"
   ]
  },
  {
   "cell_type": "code",
   "execution_count": 41,
   "metadata": {},
   "outputs": [
    {
     "data": {
      "text/html": [
       "<div>\n",
       "<style scoped>\n",
       "    .dataframe tbody tr th:only-of-type {\n",
       "        vertical-align: middle;\n",
       "    }\n",
       "\n",
       "    .dataframe tbody tr th {\n",
       "        vertical-align: top;\n",
       "    }\n",
       "\n",
       "    .dataframe thead th {\n",
       "        text-align: right;\n",
       "    }\n",
       "</style>\n",
       "<table border=\"1\" class=\"dataframe\">\n",
       "  <thead>\n",
       "    <tr style=\"text-align: right;\">\n",
       "      <th></th>\n",
       "      <th></th>\n",
       "      <th>Quantity</th>\n",
       "      <th>UnitPrice</th>\n",
       "      <th>CustomerID</th>\n",
       "      <th>TotalSalesAmount</th>\n",
       "    </tr>\n",
       "    <tr>\n",
       "      <th>StockCode</th>\n",
       "      <th>Description</th>\n",
       "      <th></th>\n",
       "      <th></th>\n",
       "      <th></th>\n",
       "      <th></th>\n",
       "    </tr>\n",
       "  </thead>\n",
       "  <tbody>\n",
       "    <tr>\n",
       "      <th>23843</th>\n",
       "      <th>PAPER CRAFT , LITTLE BIRDIE</th>\n",
       "      <td>80995</td>\n",
       "      <td>2.08</td>\n",
       "      <td>16446.0</td>\n",
       "      <td>168469.60</td>\n",
       "    </tr>\n",
       "    <tr>\n",
       "      <th>23166</th>\n",
       "      <th>MEDIUM CERAMIC TOP STORAGE JAR</th>\n",
       "      <td>78033</td>\n",
       "      <td>367.12</td>\n",
       "      <td>3047321.0</td>\n",
       "      <td>81700.92</td>\n",
       "    </tr>\n",
       "    <tr>\n",
       "      <th>22197</th>\n",
       "      <th>POPCORN HOLDER</th>\n",
       "      <td>56898</td>\n",
       "      <td>1479.76</td>\n",
       "      <td>16366320.0</td>\n",
       "      <td>51334.47</td>\n",
       "    </tr>\n",
       "    <tr>\n",
       "      <th>84077</th>\n",
       "      <th>WORLD WAR 2 GLIDERS ASSTD DESIGNS</th>\n",
       "      <td>54951</td>\n",
       "      <td>171.91</td>\n",
       "      <td>7213288.0</td>\n",
       "      <td>13814.01</td>\n",
       "    </tr>\n",
       "    <tr>\n",
       "      <th>85099B</th>\n",
       "      <th>JUMBO BAG RED RETROSPOT</th>\n",
       "      <td>48371</td>\n",
       "      <td>5243.39</td>\n",
       "      <td>24700699.0</td>\n",
       "      <td>94159.81</td>\n",
       "    </tr>\n",
       "    <tr>\n",
       "      <th>85123A</th>\n",
       "      <th>CREAM HANGING HEART T-LIGHT HOLDER</th>\n",
       "      <td>37641</td>\n",
       "      <td>7024.49</td>\n",
       "      <td>31482068.0</td>\n",
       "      <td>104462.75</td>\n",
       "    </tr>\n",
       "    <tr>\n",
       "      <th>21212</th>\n",
       "      <th>PACK OF 72 RETROSPOT CAKE CASES</th>\n",
       "      <td>36396</td>\n",
       "      <td>1029.15</td>\n",
       "      <td>15848883.0</td>\n",
       "      <td>21246.45</td>\n",
       "    </tr>\n",
       "    <tr>\n",
       "      <th>84879</th>\n",
       "      <th>ASSORTED COLOUR BIRD ORNAMENT</th>\n",
       "      <td>36362</td>\n",
       "      <td>2542.52</td>\n",
       "      <td>21247829.0</td>\n",
       "      <td>58927.62</td>\n",
       "    </tr>\n",
       "    <tr>\n",
       "      <th>23084</th>\n",
       "      <th>RABBIT NIGHT LIGHT</th>\n",
       "      <td>30739</td>\n",
       "      <td>2426.97</td>\n",
       "      <td>12264242.0</td>\n",
       "      <td>66870.03</td>\n",
       "    </tr>\n",
       "    <tr>\n",
       "      <th>22492</th>\n",
       "      <th>MINI PAINT SET VINTAGE</th>\n",
       "      <td>26633</td>\n",
       "      <td>298.31</td>\n",
       "      <td>4780324.0</td>\n",
       "      <td>16937.82</td>\n",
       "    </tr>\n",
       "  </tbody>\n",
       "</table>\n",
       "</div>"
      ],
      "text/plain": [
       "                                              Quantity  UnitPrice  CustomerID  \\\n",
       "StockCode Description                                                           \n",
       "23843     PAPER CRAFT , LITTLE BIRDIE            80995       2.08     16446.0   \n",
       "23166     MEDIUM CERAMIC TOP STORAGE JAR         78033     367.12   3047321.0   \n",
       "22197     POPCORN HOLDER                         56898    1479.76  16366320.0   \n",
       "84077     WORLD WAR 2 GLIDERS ASSTD DESIGNS      54951     171.91   7213288.0   \n",
       "85099B    JUMBO BAG RED RETROSPOT                48371    5243.39  24700699.0   \n",
       "85123A    CREAM HANGING HEART T-LIGHT HOLDER     37641    7024.49  31482068.0   \n",
       "21212     PACK OF 72 RETROSPOT CAKE CASES        36396    1029.15  15848883.0   \n",
       "84879     ASSORTED COLOUR BIRD ORNAMENT          36362    2542.52  21247829.0   \n",
       "23084     RABBIT NIGHT LIGHT                     30739    2426.97  12264242.0   \n",
       "22492     MINI PAINT SET VINTAGE                 26633     298.31   4780324.0   \n",
       "\n",
       "                                              TotalSalesAmount  \n",
       "StockCode Description                                           \n",
       "23843     PAPER CRAFT , LITTLE BIRDIE                168469.60  \n",
       "23166     MEDIUM CERAMIC TOP STORAGE JAR              81700.92  \n",
       "22197     POPCORN HOLDER                              51334.47  \n",
       "84077     WORLD WAR 2 GLIDERS ASSTD DESIGNS           13814.01  \n",
       "85099B    JUMBO BAG RED RETROSPOT                     94159.81  \n",
       "85123A    CREAM HANGING HEART T-LIGHT HOLDER         104462.75  \n",
       "21212     PACK OF 72 RETROSPOT CAKE CASES             21246.45  \n",
       "84879     ASSORTED COLOUR BIRD ORNAMENT               58927.62  \n",
       "23084     RABBIT NIGHT LIGHT                          66870.03  \n",
       "22492     MINI PAINT SET VINTAGE                      16937.82  "
      ]
     },
     "execution_count": 41,
     "metadata": {},
     "output_type": "execute_result"
    }
   ],
   "source": [
    "data.groupby(['StockCode', 'Description']).sum().sort_values('Quantity', ascending=False).head(10)"
   ]
  },
  {
   "cell_type": "code",
   "execution_count": 42,
   "metadata": {},
   "outputs": [
    {
     "data": {
      "text/plain": [
       "(479985, 10)"
      ]
     },
     "execution_count": 42,
     "metadata": {},
     "output_type": "execute_result"
    }
   ],
   "source": [
    "data = data.loc[data.Country == 'United Kingdom']\n",
    "data.shape"
   ]
  },
  {
   "cell_type": "code",
   "execution_count": 43,
   "metadata": {},
   "outputs": [
    {
     "data": {
      "text/html": [
       "<div>\n",
       "<style scoped>\n",
       "    .dataframe tbody tr th:only-of-type {\n",
       "        vertical-align: middle;\n",
       "    }\n",
       "\n",
       "    .dataframe tbody tr th {\n",
       "        vertical-align: top;\n",
       "    }\n",
       "\n",
       "    .dataframe thead th {\n",
       "        text-align: right;\n",
       "    }\n",
       "</style>\n",
       "<table border=\"1\" class=\"dataframe\">\n",
       "  <thead>\n",
       "    <tr style=\"text-align: right;\">\n",
       "      <th></th>\n",
       "      <th>Quantity</th>\n",
       "      <th>UnitPrice</th>\n",
       "      <th>CustomerID</th>\n",
       "      <th>TotalSalesAmount</th>\n",
       "      <th>Num_Item</th>\n",
       "    </tr>\n",
       "    <tr>\n",
       "      <th>InvoiceNo</th>\n",
       "      <th></th>\n",
       "      <th></th>\n",
       "      <th></th>\n",
       "      <th></th>\n",
       "      <th></th>\n",
       "    </tr>\n",
       "  </thead>\n",
       "  <tbody>\n",
       "    <tr>\n",
       "      <th>536365</th>\n",
       "      <td>40</td>\n",
       "      <td>27.37</td>\n",
       "      <td>124950.0</td>\n",
       "      <td>139.12</td>\n",
       "      <td>7</td>\n",
       "    </tr>\n",
       "    <tr>\n",
       "      <th>536366</th>\n",
       "      <td>12</td>\n",
       "      <td>3.70</td>\n",
       "      <td>35700.0</td>\n",
       "      <td>22.20</td>\n",
       "      <td>2</td>\n",
       "    </tr>\n",
       "    <tr>\n",
       "      <th>536367</th>\n",
       "      <td>83</td>\n",
       "      <td>58.24</td>\n",
       "      <td>156564.0</td>\n",
       "      <td>278.73</td>\n",
       "      <td>12</td>\n",
       "    </tr>\n",
       "    <tr>\n",
       "      <th>536368</th>\n",
       "      <td>15</td>\n",
       "      <td>19.10</td>\n",
       "      <td>52188.0</td>\n",
       "      <td>70.05</td>\n",
       "      <td>4</td>\n",
       "    </tr>\n",
       "    <tr>\n",
       "      <th>536369</th>\n",
       "      <td>3</td>\n",
       "      <td>5.95</td>\n",
       "      <td>13047.0</td>\n",
       "      <td>17.85</td>\n",
       "      <td>1</td>\n",
       "    </tr>\n",
       "    <tr>\n",
       "      <th>...</th>\n",
       "      <td>...</td>\n",
       "      <td>...</td>\n",
       "      <td>...</td>\n",
       "      <td>...</td>\n",
       "      <td>...</td>\n",
       "    </tr>\n",
       "    <tr>\n",
       "      <th>581583</th>\n",
       "      <td>76</td>\n",
       "      <td>3.30</td>\n",
       "      <td>27554.0</td>\n",
       "      <td>124.60</td>\n",
       "      <td>2</td>\n",
       "    </tr>\n",
       "    <tr>\n",
       "      <th>581584</th>\n",
       "      <td>120</td>\n",
       "      <td>2.57</td>\n",
       "      <td>27554.0</td>\n",
       "      <td>140.64</td>\n",
       "      <td>2</td>\n",
       "    </tr>\n",
       "    <tr>\n",
       "      <th>581585</th>\n",
       "      <td>278</td>\n",
       "      <td>37.78</td>\n",
       "      <td>331884.0</td>\n",
       "      <td>329.05</td>\n",
       "      <td>21</td>\n",
       "    </tr>\n",
       "    <tr>\n",
       "      <th>581586</th>\n",
       "      <td>66</td>\n",
       "      <td>20.23</td>\n",
       "      <td>52452.0</td>\n",
       "      <td>339.20</td>\n",
       "      <td>4</td>\n",
       "    </tr>\n",
       "    <tr>\n",
       "      <th>A563185</th>\n",
       "      <td>1</td>\n",
       "      <td>11062.06</td>\n",
       "      <td>0.0</td>\n",
       "      <td>11062.06</td>\n",
       "      <td>1</td>\n",
       "    </tr>\n",
       "  </tbody>\n",
       "</table>\n",
       "<p>18019 rows × 5 columns</p>\n",
       "</div>"
      ],
      "text/plain": [
       "           Quantity  UnitPrice  CustomerID  TotalSalesAmount  Num_Item\n",
       "InvoiceNo                                                             \n",
       "536365           40      27.37    124950.0            139.12         7\n",
       "536366           12       3.70     35700.0             22.20         2\n",
       "536367           83      58.24    156564.0            278.73        12\n",
       "536368           15      19.10     52188.0             70.05         4\n",
       "536369            3       5.95     13047.0             17.85         1\n",
       "...             ...        ...         ...               ...       ...\n",
       "581583           76       3.30     27554.0            124.60         2\n",
       "581584          120       2.57     27554.0            140.64         2\n",
       "581585          278      37.78    331884.0            329.05        21\n",
       "581586           66      20.23     52452.0            339.20         4\n",
       "A563185           1   11062.06         0.0          11062.06         1\n",
       "\n",
       "[18019 rows x 5 columns]"
      ]
     },
     "execution_count": 43,
     "metadata": {},
     "output_type": "execute_result"
    }
   ],
   "source": [
    "data['Num_Item'] = 1\n",
    "df = data.groupby('InvoiceNo').sum()\n",
    "df"
   ]
  },
  {
   "cell_type": "markdown",
   "metadata": {},
   "source": [
    "### Removing invoices with high number of items (90 percentile)"
   ]
  },
  {
   "cell_type": "code",
   "execution_count": 44,
   "metadata": {},
   "outputs": [
    {
     "data": {
      "text/plain": [
       "(258270, 11)"
      ]
     },
     "execution_count": 44,
     "metadata": {},
     "output_type": "execute_result"
    }
   ],
   "source": [
    "wanted_invoice = list(df[df.Num_Item <= np.percentile(df.Num_Item, 90)].index)\n",
    "\n",
    "data = data.loc[data.InvoiceNo.isin(wanted_invoice)]\n",
    "data.shape"
   ]
  },
  {
   "cell_type": "code",
   "execution_count": 45,
   "metadata": {},
   "outputs": [
    {
     "data": {
      "text/plain": [
       "<matplotlib.axes._subplots.AxesSubplot at 0x7fb838eba850>"
      ]
     },
     "execution_count": 45,
     "metadata": {},
     "output_type": "execute_result"
    },
    {
     "data": {
      "image/png": "[encoded data removed]",
      "text/plain": [
       "<Figure size 432x288 with 1 Axes>"
      ]
     },
     "metadata": {
      "needs_background": "light"
     },
     "output_type": "display_data"
    }
   ],
   "source": [
    "df.sort_values(by='Quantity', inplace=True)\n",
    "\n",
    "sns.lineplot(list(range(df.shape[0])), y=df.Quantity)"
   ]
  },
  {
   "cell_type": "markdown",
   "metadata": {},
   "source": [
    "### Converting Description column to lower-case"
   ]
  },
  {
   "cell_type": "code",
   "execution_count": 46,
   "metadata": {},
   "outputs": [
    {
     "data": {
      "text/html": [
       "<div>\n",
       "<style scoped>\n",
       "    .dataframe tbody tr th:only-of-type {\n",
       "        vertical-align: middle;\n",
       "    }\n",
       "\n",
       "    .dataframe tbody tr th {\n",
       "        vertical-align: top;\n",
       "    }\n",
       "\n",
       "    .dataframe thead th {\n",
       "        text-align: right;\n",
       "    }\n",
       "</style>\n",
       "<table border=\"1\" class=\"dataframe\">\n",
       "  <thead>\n",
       "    <tr style=\"text-align: right;\">\n",
       "      <th></th>\n",
       "      <th>InvoiceNo</th>\n",
       "      <th>StockCode</th>\n",
       "      <th>Description</th>\n",
       "      <th>Quantity</th>\n",
       "      <th>InvoiceDate</th>\n",
       "      <th>UnitPrice</th>\n",
       "      <th>CustomerID</th>\n",
       "      <th>Country</th>\n",
       "      <th>TotalSalesAmount</th>\n",
       "      <th>InvoiceMonth</th>\n",
       "      <th>Num_Item</th>\n",
       "    </tr>\n",
       "  </thead>\n",
       "  <tbody>\n",
       "    <tr>\n",
       "      <th>0</th>\n",
       "      <td>536365</td>\n",
       "      <td>85123A</td>\n",
       "      <td>cream hanging heart t-light holder</td>\n",
       "      <td>6</td>\n",
       "      <td>2010-12-01 08:26:00</td>\n",
       "      <td>2.55</td>\n",
       "      <td>17850.0</td>\n",
       "      <td>United Kingdom</td>\n",
       "      <td>15.30</td>\n",
       "      <td>2010-12-01</td>\n",
       "      <td>1</td>\n",
       "    </tr>\n",
       "    <tr>\n",
       "      <th>1</th>\n",
       "      <td>536365</td>\n",
       "      <td>71053</td>\n",
       "      <td>white metal lantern</td>\n",
       "      <td>6</td>\n",
       "      <td>2010-12-01 08:26:00</td>\n",
       "      <td>3.39</td>\n",
       "      <td>17850.0</td>\n",
       "      <td>United Kingdom</td>\n",
       "      <td>20.34</td>\n",
       "      <td>2010-12-01</td>\n",
       "      <td>1</td>\n",
       "    </tr>\n",
       "    <tr>\n",
       "      <th>2</th>\n",
       "      <td>536365</td>\n",
       "      <td>84406B</td>\n",
       "      <td>cream cupid hearts coat hanger</td>\n",
       "      <td>8</td>\n",
       "      <td>2010-12-01 08:26:00</td>\n",
       "      <td>2.75</td>\n",
       "      <td>17850.0</td>\n",
       "      <td>United Kingdom</td>\n",
       "      <td>22.00</td>\n",
       "      <td>2010-12-01</td>\n",
       "      <td>1</td>\n",
       "    </tr>\n",
       "    <tr>\n",
       "      <th>3</th>\n",
       "      <td>536365</td>\n",
       "      <td>84029G</td>\n",
       "      <td>knitted union flag hot water bottle</td>\n",
       "      <td>6</td>\n",
       "      <td>2010-12-01 08:26:00</td>\n",
       "      <td>3.39</td>\n",
       "      <td>17850.0</td>\n",
       "      <td>United Kingdom</td>\n",
       "      <td>20.34</td>\n",
       "      <td>2010-12-01</td>\n",
       "      <td>1</td>\n",
       "    </tr>\n",
       "    <tr>\n",
       "      <th>4</th>\n",
       "      <td>536365</td>\n",
       "      <td>84029E</td>\n",
       "      <td>red woolly hottie white heart.</td>\n",
       "      <td>6</td>\n",
       "      <td>2010-12-01 08:26:00</td>\n",
       "      <td>3.39</td>\n",
       "      <td>17850.0</td>\n",
       "      <td>United Kingdom</td>\n",
       "      <td>20.34</td>\n",
       "      <td>2010-12-01</td>\n",
       "      <td>1</td>\n",
       "    </tr>\n",
       "  </tbody>\n",
       "</table>\n",
       "</div>"
      ],
      "text/plain": [
       "  InvoiceNo StockCode                          Description  Quantity  \\\n",
       "0    536365    85123A   cream hanging heart t-light holder         6   \n",
       "1    536365     71053                  white metal lantern         6   \n",
       "2    536365    84406B       cream cupid hearts coat hanger         8   \n",
       "3    536365    84029G  knitted union flag hot water bottle         6   \n",
       "4    536365    84029E       red woolly hottie white heart.         6   \n",
       "\n",
       "          InvoiceDate  UnitPrice  CustomerID         Country  \\\n",
       "0 2010-12-01 08:26:00       2.55     17850.0  United Kingdom   \n",
       "1 2010-12-01 08:26:00       3.39     17850.0  United Kingdom   \n",
       "2 2010-12-01 08:26:00       2.75     17850.0  United Kingdom   \n",
       "3 2010-12-01 08:26:00       3.39     17850.0  United Kingdom   \n",
       "4 2010-12-01 08:26:00       3.39     17850.0  United Kingdom   \n",
       "\n",
       "   TotalSalesAmount InvoiceMonth  Num_Item  \n",
       "0             15.30   2010-12-01         1  \n",
       "1             20.34   2010-12-01         1  \n",
       "2             22.00   2010-12-01         1  \n",
       "3             20.34   2010-12-01         1  \n",
       "4             20.34   2010-12-01         1  "
      ]
     },
     "execution_count": 46,
     "metadata": {},
     "output_type": "execute_result"
    }
   ],
   "source": [
    "data['Description'] = data.Description.str.lower()\n",
    "data.head()"
   ]
  },
  {
   "cell_type": "code",
   "execution_count": 47,
   "metadata": {},
   "outputs": [],
   "source": [
    "data.drop(columns='Num_Item', inplace=True)"
   ]
  },
  {
   "cell_type": "markdown",
   "metadata": {},
   "source": [
    "### Removing unwanted items"
   ]
  },
  {
   "cell_type": "code",
   "execution_count": 48,
   "metadata": {},
   "outputs": [
    {
     "data": {
      "text/plain": [
       "(257800, 10)"
      ]
     },
     "execution_count": 48,
     "metadata": {},
     "output_type": "execute_result"
    }
   ],
   "source": [
    "data = data.loc[~data.Description.str.contains('postage')]\n",
    "data = data.loc[~data.Description.str.contains('manual')]\n",
    "data = data.loc[~data.Description.str.contains('amazon')]\n",
    "data = data.loc[~data.Description.str.contains('charges')]\n",
    "\n",
    "data.shape"
   ]
  },
  {
   "cell_type": "markdown",
   "metadata": {},
   "source": [
    "### Removing outliers"
   ]
  },
  {
   "cell_type": "code",
   "execution_count": 49,
   "metadata": {},
   "outputs": [
    {
     "data": {
      "text/plain": [
       "{'whiskers': [<matplotlib.lines.Line2D at 0x7fb81bd37310>,\n",
       "  <matplotlib.lines.Line2D at 0x7fb81bd37850>],\n",
       " 'caps': [<matplotlib.lines.Line2D at 0x7fb81bd37d90>,\n",
       "  <matplotlib.lines.Line2D at 0x7fb81be80310>],\n",
       " 'boxes': [<matplotlib.lines.Line2D at 0x7fb81bd30d90>],\n",
       " 'medians': [<matplotlib.lines.Line2D at 0x7fb81be80890>],\n",
       " 'fliers': [<matplotlib.lines.Line2D at 0x7fb81be80dd0>],\n",
       " 'means': []}"
      ]
     },
     "execution_count": 49,
     "metadata": {},
     "output_type": "execute_result"
    },
    {
     "data": {
      "image/png": "[encoded data removed]",
      "text/plain": [
       "<Figure size 432x288 with 1 Axes>"
      ]
     },
     "metadata": {
      "needs_background": "light"
     },
     "output_type": "display_data"
    }
   ],
   "source": [
    "plt.boxplot(data.UnitPrice)"
   ]
  },
  {
   "cell_type": "code",
   "execution_count": 50,
   "metadata": {},
   "outputs": [
    {
     "data": {
      "text/plain": [
       "(257799, 10)"
      ]
     },
     "execution_count": 50,
     "metadata": {},
     "output_type": "execute_result"
    }
   ],
   "source": [
    "data = data.loc[data.UnitPrice < 6000]\n",
    "data.shape"
   ]
  },
  {
   "cell_type": "code",
   "execution_count": 51,
   "metadata": {},
   "outputs": [
    {
     "data": {
      "text/plain": [
       "{'whiskers': [<matplotlib.lines.Line2D at 0x7fb8331b8e90>,\n",
       "  <matplotlib.lines.Line2D at 0x7fb8331e9850>],\n",
       " 'caps': [<matplotlib.lines.Line2D at 0x7fb83323dc10>,\n",
       "  <matplotlib.lines.Line2D at 0x7fb83321a6d0>],\n",
       " 'boxes': [<matplotlib.lines.Line2D at 0x7fb8331a4f50>],\n",
       " 'medians': [<matplotlib.lines.Line2D at 0x7fb8350cd310>],\n",
       " 'fliers': [<matplotlib.lines.Line2D at 0x7fb843297990>],\n",
       " 'means': []}"
      ]
     },
     "execution_count": 51,
     "metadata": {},
     "output_type": "execute_result"
    },
    {
     "data": {
      "image/png": "[encoded data removed]",
      "text/plain": [
       "<Figure size 432x288 with 1 Axes>"
      ]
     },
     "metadata": {
      "needs_background": "light"
     },
     "output_type": "display_data"
    }
   ],
   "source": [
    "plt.boxplot(data.Quantity)"
   ]
  },
  {
   "cell_type": "code",
   "execution_count": 52,
   "metadata": {},
   "outputs": [
    {
     "data": {
      "text/plain": [
       "(257797, 10)"
      ]
     },
     "execution_count": 52,
     "metadata": {},
     "output_type": "execute_result"
    }
   ],
   "source": [
    "data = data.loc[data.Quantity < 60000]\n",
    "data.shape"
   ]
  },
  {
   "cell_type": "code",
   "execution_count": 53,
   "metadata": {},
   "outputs": [
    {
     "data": {
      "text/plain": [
       "{'whiskers': [<matplotlib.lines.Line2D at 0x7fb837a3d250>,\n",
       "  <matplotlib.lines.Line2D at 0x7fb837a5dad0>],\n",
       " 'caps': [<matplotlib.lines.Line2D at 0x7fb837a5dbd0>,\n",
       "  <matplotlib.lines.Line2D at 0x7fb837a5de10>],\n",
       " 'boxes': [<matplotlib.lines.Line2D at 0x7fb8350e2fd0>],\n",
       " 'medians': [<matplotlib.lines.Line2D at 0x7fb837a643d0>],\n",
       " 'fliers': [<matplotlib.lines.Line2D at 0x7fb837a64b50>],\n",
       " 'means': []}"
      ]
     },
     "execution_count": 53,
     "metadata": {},
     "output_type": "execute_result"
    },
    {
     "data": {
      "image/png": "[encoded data removed]",
      "text/plain": [
       "<Figure size 432x288 with 1 Axes>"
      ]
     },
     "metadata": {
      "needs_background": "light"
     },
     "output_type": "display_data"
    }
   ],
   "source": [
    "plt.boxplot(data.TotalSalesAmount)"
   ]
  },
  {
   "cell_type": "code",
   "execution_count": 54,
   "metadata": {},
   "outputs": [
    {
     "data": {
      "text/plain": [
       "(257796, 10)"
      ]
     },
     "execution_count": 54,
     "metadata": {},
     "output_type": "execute_result"
    }
   ],
   "source": [
    "data = data.loc[data.TotalSalesAmount < 35000]\n",
    "data.shape"
   ]
  },
  {
   "cell_type": "markdown",
   "metadata": {},
   "source": [
    "### Visualizing top-selling items along with Unit Price"
   ]
  },
  {
   "cell_type": "code",
   "execution_count": 56,
   "metadata": {},
   "outputs": [
    {
     "data": {
      "text/html": [
       "<div>\n",
       "<style scoped>\n",
       "    .dataframe tbody tr th:only-of-type {\n",
       "        vertical-align: middle;\n",
       "    }\n",
       "\n",
       "    .dataframe tbody tr th {\n",
       "        vertical-align: top;\n",
       "    }\n",
       "\n",
       "    .dataframe thead th {\n",
       "        text-align: right;\n",
       "    }\n",
       "</style>\n",
       "<table border=\"1\" class=\"dataframe\">\n",
       "  <thead>\n",
       "    <tr style=\"text-align: right;\">\n",
       "      <th></th>\n",
       "      <th>StockCode</th>\n",
       "      <th>Count</th>\n",
       "      <th>UnitPrice</th>\n",
       "    </tr>\n",
       "    <tr>\n",
       "      <th>Description</th>\n",
       "      <th></th>\n",
       "      <th></th>\n",
       "      <th></th>\n",
       "    </tr>\n",
       "  </thead>\n",
       "  <tbody>\n",
       "    <tr>\n",
       "      <th>cream hanging heart t-light holder</th>\n",
       "      <td>85123A</td>\n",
       "      <td>1559</td>\n",
       "      <td>2.872938</td>\n",
       "    </tr>\n",
       "    <tr>\n",
       "      <th>jumbo bag red retrospot</th>\n",
       "      <td>85099B</td>\n",
       "      <td>1352</td>\n",
       "      <td>2.216620</td>\n",
       "    </tr>\n",
       "    <tr>\n",
       "      <th>regency cakestand 3 tier</th>\n",
       "      <td>22423</td>\n",
       "      <td>1219</td>\n",
       "      <td>12.482912</td>\n",
       "    </tr>\n",
       "    <tr>\n",
       "      <th>party bunting</th>\n",
       "      <td>47566</td>\n",
       "      <td>1138</td>\n",
       "      <td>4.927671</td>\n",
       "    </tr>\n",
       "    <tr>\n",
       "      <th>assorted colour bird ornament</th>\n",
       "      <td>84879</td>\n",
       "      <td>1129</td>\n",
       "      <td>1.684446</td>\n",
       "    </tr>\n",
       "    <tr>\n",
       "      <th>lunch bag red retrospot</th>\n",
       "      <td>20725</td>\n",
       "      <td>887</td>\n",
       "      <td>1.726246</td>\n",
       "    </tr>\n",
       "    <tr>\n",
       "      <th>set of 3 cake tins pantry design</th>\n",
       "      <td>22720</td>\n",
       "      <td>820</td>\n",
       "      <td>5.026598</td>\n",
       "    </tr>\n",
       "    <tr>\n",
       "      <th>jumbo bag doiley patterns</th>\n",
       "      <td>23203</td>\n",
       "      <td>815</td>\n",
       "      <td>2.052086</td>\n",
       "    </tr>\n",
       "    <tr>\n",
       "      <th>jumbo bag pink polkadot</th>\n",
       "      <td>22386</td>\n",
       "      <td>801</td>\n",
       "      <td>2.364657</td>\n",
       "    </tr>\n",
       "    <tr>\n",
       "      <th>natural slate heart chalkboard</th>\n",
       "      <td>22457</td>\n",
       "      <td>799</td>\n",
       "      <td>3.021489</td>\n",
       "    </tr>\n",
       "    <tr>\n",
       "      <th>popcorn holder</th>\n",
       "      <td>22197</td>\n",
       "      <td>787</td>\n",
       "      <td>0.892567</td>\n",
       "    </tr>\n",
       "  </tbody>\n",
       "</table>\n",
       "</div>"
      ],
      "text/plain": [
       "                                   StockCode  Count  UnitPrice\n",
       "Description                                                   \n",
       "cream hanging heart t-light holder    85123A   1559   2.872938\n",
       "jumbo bag red retrospot               85099B   1352   2.216620\n",
       "regency cakestand 3 tier               22423   1219  12.482912\n",
       "party bunting                          47566   1138   4.927671\n",
       "assorted colour bird ornament          84879   1129   1.684446\n",
       "lunch bag red retrospot                20725    887   1.726246\n",
       "set of 3 cake tins pantry design       22720    820   5.026598\n",
       "jumbo bag doiley patterns              23203    815   2.052086\n",
       "jumbo bag pink polkadot                22386    801   2.364657\n",
       "natural slate heart chalkboard         22457    799   3.021489\n",
       "popcorn holder                         22197    787   0.892567"
      ]
     },
     "execution_count": 56,
     "metadata": {},
     "output_type": "execute_result"
    }
   ],
   "source": [
    "top_item = pd.DataFrame(data.groupby(['StockCode', 'Description']).size())\n",
    "top_item.columns = ['Count']\n",
    "top_item.sort_values(by='Count', ascending=False, inplace=True)\n",
    "top_item.reset_index(inplace=True)\n",
    "#top_item = top_item.loc[:, ['StockCode', 'Description', 'Quantity']]\n",
    "#top_item.head(10)\n",
    "\n",
    "price = data.groupby(['StockCode', 'Description']).mean()\n",
    "top_item = top_item.merge(price, on=['StockCode', 'Description'], how='left')\n",
    "top_item = top_item.loc[:, ['StockCode', 'Description', 'Count', 'UnitPrice']]\n",
    "top_item = top_item.loc[:10,]\n",
    "top_item.set_index('Description', drop=True, inplace=True)\n",
    "top_item"
   ]
  },
  {
   "cell_type": "code",
   "execution_count": 57,
   "metadata": {},
   "outputs": [],
   "source": [
    "new_idx=[]\n",
    "for index in top_item.index:\n",
    "    desc = index.split(' ')\n",
    "    if len(desc) > 3:\n",
    "        desc = ' '.join(desc[:3]) + '\\n' + ' '.join(desc[3:])\n",
    "    elif len(desc) > 2:\n",
    "        desc = ' '.join(desc[:2]) + '\\n' + ' '.join(desc[2:])\n",
    "    else:\n",
    "        desc = ' '.join(desc)\n",
    "    new_idx.append(desc)\n",
    "    \n",
    "top_item.index = new_idx"
   ]
  },
  {
   "cell_type": "code",
   "execution_count": 66,
   "metadata": {},
   "outputs": [
    {
     "data": {
      "image/png": "[encoded data removed]",
      "text/plain": [
       "<Figure size 576x432 with 2 Axes>"
      ]
     },
     "metadata": {
      "needs_background": "light"
     },
     "output_type": "display_data"
    }
   ],
   "source": [
    "fig = plt.figure(figsize=(8,6)) \n",
    "\n",
    "ax = fig.add_subplot(111) \n",
    "ax2 = ax.twinx() \n",
    "\n",
    "width = 0.4\n",
    "\n",
    "top_item.Count.plot(kind='bar', color='#1f77b4', ax=ax, width=width, position=1)\n",
    "top_item.UnitPrice.plot(kind='bar', color='#ff7f0e', ax=ax2, width=width, position=0.4)\n",
    "\n",
    "ax.set_ylabel('Number of Invoice')\n",
    "ax2.set_ylabel('Unit Price')\n",
    "\n",
    "plt.show()"
   ]
  },
  {
   "cell_type": "markdown",
   "metadata": {},
   "source": [
    "### Items with high total sales amount"
   ]
  },
  {
   "cell_type": "code",
   "execution_count": 59,
   "metadata": {},
   "outputs": [],
   "source": [
    "totalSales = data.groupby(['Description']).sum()\n",
    "totalSales.sort_values(by='TotalSalesAmount', ascending=False, inplace=True)\n",
    "totalSales = totalSales.iloc[:10,]\n",
    "\n",
    "new_idx=[]\n",
    "for index in totalSales.index:\n",
    "    desc = index.split(' ')\n",
    "    if len(desc) > 3:\n",
    "        desc = ' '.join(desc[:3]) + '\\n' + ' '.join(desc[3:])\n",
    "    elif len(desc) > 2:\n",
    "        desc = ' '.join(desc[:2]) + '\\n' + ' '.join(desc[2:])\n",
    "    else:\n",
    "        desc = ' '.join(desc)\n",
    "    new_idx.append(desc)\n",
    "    \n",
    "totalSales.index = new_idx"
   ]
  },
  {
   "cell_type": "code",
   "execution_count": 60,
   "metadata": {},
   "outputs": [
    {
     "data": {
      "image/png": "[encoded data removed]",
      "text/plain": [
       "<Figure size 720x576 with 1 Axes>"
      ]
     },
     "metadata": {
      "needs_background": "light"
     },
     "output_type": "display_data"
    }
   ],
   "source": [
    "fig = plt.figure(figsize=(10,8)) # Create matplotlib figure\n",
    "\n",
    "ax = fig.add_subplot(111)\n",
    "totalSales.TotalSalesAmount.plot(kind='bar', color='#1f77b4', ax=ax, width=width, position=1)\n",
    "\n",
    "plt.show()"
   ]
  },
  {
   "cell_type": "code",
   "execution_count": 61,
   "metadata": {},
   "outputs": [
    {
     "data": {
      "text/html": [
       "<div>\n",
       "<style scoped>\n",
       "    .dataframe tbody tr th:only-of-type {\n",
       "        vertical-align: middle;\n",
       "    }\n",
       "\n",
       "    .dataframe tbody tr th {\n",
       "        vertical-align: top;\n",
       "    }\n",
       "\n",
       "    .dataframe thead th {\n",
       "        text-align: right;\n",
       "    }\n",
       "</style>\n",
       "<table border=\"1\" class=\"dataframe\">\n",
       "  <thead>\n",
       "    <tr style=\"text-align: right;\">\n",
       "      <th></th>\n",
       "      <th>InvoiceNo</th>\n",
       "      <th>Count</th>\n",
       "      <th>InvoiceTime</th>\n",
       "    </tr>\n",
       "  </thead>\n",
       "  <tbody>\n",
       "    <tr>\n",
       "      <th>0</th>\n",
       "      <td>536365</td>\n",
       "      <td>7</td>\n",
       "      <td>08:26:00</td>\n",
       "    </tr>\n",
       "    <tr>\n",
       "      <th>7</th>\n",
       "      <td>536366</td>\n",
       "      <td>2</td>\n",
       "      <td>08:28:00</td>\n",
       "    </tr>\n",
       "    <tr>\n",
       "      <th>9</th>\n",
       "      <td>536367</td>\n",
       "      <td>12</td>\n",
       "      <td>08:34:00</td>\n",
       "    </tr>\n",
       "    <tr>\n",
       "      <th>21</th>\n",
       "      <td>536368</td>\n",
       "      <td>4</td>\n",
       "      <td>08:34:00</td>\n",
       "    </tr>\n",
       "    <tr>\n",
       "      <th>25</th>\n",
       "      <td>536369</td>\n",
       "      <td>1</td>\n",
       "      <td>08:35:00</td>\n",
       "    </tr>\n",
       "    <tr>\n",
       "      <th>...</th>\n",
       "      <td>...</td>\n",
       "      <td>...</td>\n",
       "      <td>...</td>\n",
       "    </tr>\n",
       "    <tr>\n",
       "      <th>257765</th>\n",
       "      <td>581582</td>\n",
       "      <td>2</td>\n",
       "      <td>12:21:00</td>\n",
       "    </tr>\n",
       "    <tr>\n",
       "      <th>257767</th>\n",
       "      <td>581583</td>\n",
       "      <td>2</td>\n",
       "      <td>12:23:00</td>\n",
       "    </tr>\n",
       "    <tr>\n",
       "      <th>257769</th>\n",
       "      <td>581584</td>\n",
       "      <td>2</td>\n",
       "      <td>12:25:00</td>\n",
       "    </tr>\n",
       "    <tr>\n",
       "      <th>257771</th>\n",
       "      <td>581585</td>\n",
       "      <td>21</td>\n",
       "      <td>12:31:00</td>\n",
       "    </tr>\n",
       "    <tr>\n",
       "      <th>257792</th>\n",
       "      <td>581586</td>\n",
       "      <td>4</td>\n",
       "      <td>12:49:00</td>\n",
       "    </tr>\n",
       "  </tbody>\n",
       "</table>\n",
       "<p>16127 rows × 3 columns</p>\n",
       "</div>"
      ],
      "text/plain": [
       "       InvoiceNo  Count InvoiceTime\n",
       "0         536365      7    08:26:00\n",
       "7         536366      2    08:28:00\n",
       "9         536367     12    08:34:00\n",
       "21        536368      4    08:34:00\n",
       "25        536369      1    08:35:00\n",
       "...          ...    ...         ...\n",
       "257765    581582      2    12:21:00\n",
       "257767    581583      2    12:23:00\n",
       "257769    581584      2    12:25:00\n",
       "257771    581585     21    12:31:00\n",
       "257792    581586      4    12:49:00\n",
       "\n",
       "[16127 rows x 3 columns]"
      ]
     },
     "execution_count": 61,
     "metadata": {},
     "output_type": "execute_result"
    }
   ],
   "source": [
    "data['InvoiceTime'] = data.InvoiceDate.dt.time\n",
    "time_df = pd.DataFrame(data.groupby(['InvoiceNo']).size())\n",
    "time_df.columns = ['Count']\n",
    "time_df.reset_index(inplace=True)\n",
    "time_df = time_df.merge(data, on=['InvoiceNo'], how='inner')\n",
    "time_df = time_df.loc[:, ['InvoiceNo', 'Count', 'InvoiceTime']]\n",
    "time_df.drop_duplicates(inplace=True, keep='first')\n",
    "time_df"
   ]
  },
  {
   "cell_type": "markdown",
   "metadata": {},
   "source": [
    "### Visualizing number of invoices by time of day"
   ]
  },
  {
   "cell_type": "code",
   "execution_count": 62,
   "metadata": {},
   "outputs": [],
   "source": [
    "def timeOfDay(time):\n",
    "    if (time >= datetime.datetime.strptime('06:00', '%H:%M').time()) and\\\n",
    "    (time <= datetime.datetime.strptime('11:59', '%H:%M').time()):\n",
    "        return 'Morning'\n",
    "    elif (time >= datetime.datetime.strptime('12:00', '%H:%M').time()) and\\\n",
    "    (time <= datetime.datetime.strptime('17:59', '%H:%M').time()):\n",
    "        return 'Afternoon'\n",
    "    elif (time >= datetime.datetime.strptime('18:00', '%H:%M').time()) and\\\n",
    "    (time <= datetime.datetime.strptime('23:59', '%H:%M').time()):\n",
    "        return 'Evening'\n",
    "    elif (time >= datetime.datetime.strptime('00:00', '%H:%M').time()) and\\\n",
    "    (time <= datetime.datetime.strptime('05:59', '%H:%M').time()):\n",
    "        return 'Night'"
   ]
  },
  {
   "cell_type": "code",
   "execution_count": 63,
   "metadata": {},
   "outputs": [
    {
     "data": {
      "text/html": [
       "<div>\n",
       "<style scoped>\n",
       "    .dataframe tbody tr th:only-of-type {\n",
       "        vertical-align: middle;\n",
       "    }\n",
       "\n",
       "    .dataframe tbody tr th {\n",
       "        vertical-align: top;\n",
       "    }\n",
       "\n",
       "    .dataframe thead th {\n",
       "        text-align: right;\n",
       "    }\n",
       "</style>\n",
       "<table border=\"1\" class=\"dataframe\">\n",
       "  <thead>\n",
       "    <tr style=\"text-align: right;\">\n",
       "      <th></th>\n",
       "      <th>InvoiceNo</th>\n",
       "      <th>Count</th>\n",
       "      <th>InvoiceTime</th>\n",
       "      <th>TimeOfDay</th>\n",
       "    </tr>\n",
       "  </thead>\n",
       "  <tbody>\n",
       "    <tr>\n",
       "      <th>0</th>\n",
       "      <td>536365</td>\n",
       "      <td>7</td>\n",
       "      <td>08:26:00</td>\n",
       "      <td>Morning</td>\n",
       "    </tr>\n",
       "    <tr>\n",
       "      <th>7</th>\n",
       "      <td>536366</td>\n",
       "      <td>2</td>\n",
       "      <td>08:28:00</td>\n",
       "      <td>Morning</td>\n",
       "    </tr>\n",
       "    <tr>\n",
       "      <th>9</th>\n",
       "      <td>536367</td>\n",
       "      <td>12</td>\n",
       "      <td>08:34:00</td>\n",
       "      <td>Morning</td>\n",
       "    </tr>\n",
       "    <tr>\n",
       "      <th>21</th>\n",
       "      <td>536368</td>\n",
       "      <td>4</td>\n",
       "      <td>08:34:00</td>\n",
       "      <td>Morning</td>\n",
       "    </tr>\n",
       "    <tr>\n",
       "      <th>25</th>\n",
       "      <td>536369</td>\n",
       "      <td>1</td>\n",
       "      <td>08:35:00</td>\n",
       "      <td>Morning</td>\n",
       "    </tr>\n",
       "  </tbody>\n",
       "</table>\n",
       "</div>"
      ],
      "text/plain": [
       "   InvoiceNo  Count InvoiceTime TimeOfDay\n",
       "0     536365      7    08:26:00   Morning\n",
       "7     536366      2    08:28:00   Morning\n",
       "9     536367     12    08:34:00   Morning\n",
       "21    536368      4    08:34:00   Morning\n",
       "25    536369      1    08:35:00   Morning"
      ]
     },
     "execution_count": 63,
     "metadata": {},
     "output_type": "execute_result"
    }
   ],
   "source": [
    "import datetime\n",
    "\n",
    "time_df['TimeOfDay'] = time_df.InvoiceTime.apply(timeOfDay)\n",
    "time_df.head()"
   ]
  },
  {
   "cell_type": "code",
   "execution_count": 64,
   "metadata": {},
   "outputs": [
    {
     "data": {
      "image/png": "[encoded data removed]",
      "text/plain": [
       "<Figure size 720x576 with 1 Axes>"
      ]
     },
     "metadata": {
      "needs_background": "light"
     },
     "output_type": "display_data"
    }
   ],
   "source": [
    "fig = plt.figure(figsize=(10,8)) \n",
    "\n",
    "ax = fig.add_subplot(111)\n",
    "bytime = pd.DataFrame(time_df.groupby('TimeOfDay').size())\n",
    "bytime.columns = ['Count']\n",
    "bytime['index'] = [1,2,0]\n",
    "bytime.sort_values(by='index', inplace=True)\n",
    "bytime.reset_index(inplace=True)\n",
    "sns.barplot(x=\"TimeOfDay\", y=\"Count\", data=bytime)\n",
    "plt.ylabel('Number of Invoices')\n",
    "\n",
    "plt.show()"
   ]
  },
  {
   "cell_type": "code",
   "execution_count": 65,
   "metadata": {},
   "outputs": [],
   "source": [
    "data = data.merge(time_df, on='InvoiceNo', how='left')\n",
    "data.drop(columns=['Count', 'InvoiceTime_x', 'InvoiceTime_y'], inplace=True)"
   ]
  },
  {
   "cell_type": "markdown",
   "metadata": {},
   "source": [
    "### Exporting as CSV"
   ]
  },
  {
   "cell_type": "code",
   "execution_count": 67,
   "metadata": {},
   "outputs": [],
   "source": [
    "data = data.to_csv('Online_Retail_Preprocessed_V2.csv', index=False)"
   ]
  }
 ],
 "metadata": {
  "kernelspec": {
   "display_name": "Python 3",
   "language": "python",
   "name": "python3"
  },
  "language_info": {
   "codemirror_mode": {
    "name": "ipython",
    "version": 3
   },
   "file_extension": ".py",
   "mimetype": "text/x-python",
   "name": "python",
   "nbconvert_exporter": "python",
   "pygments_lexer": "ipython3",
   "version": "3.7.7"
  },
  "varInspector": {
   "cols": {
    "lenName": 16,
    "lenType": 16,
    "lenVar": 40
   },
   "kernels_config": {
    "python": {
     "delete_cmd_postfix": "",
     "delete_cmd_prefix": "del ",
     "library": "var_list.py",
     "varRefreshCmd": "print(var_dic_list())"
    },
    "r": {
     "delete_cmd_postfix": ") ",
     "delete_cmd_prefix": "rm(",
     "library": "var_list.r",
     "varRefreshCmd": "cat(var_dic_list()) "
    }
   },
   "types_to_exclude": [
    "module",
    "function",
    "builtin_function_or_method",
    "instance",
    "_Feature"
   ],
   "window_display": false
  }
 },
 "nbformat": 4,
 "nbformat_minor": 4
}
